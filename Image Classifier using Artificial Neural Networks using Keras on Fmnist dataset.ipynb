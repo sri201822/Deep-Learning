{
 "cells": [
  {
   "cell_type": "code",
   "execution_count": 1,
   "metadata": {},
   "outputs": [
    {
     "name": "stderr",
     "output_type": "stream",
     "text": [
      "Using TensorFlow backend.\n"
     ]
    }
   ],
   "source": [
    "import keras"
   ]
  },
  {
   "cell_type": "code",
   "execution_count": 2,
   "metadata": {},
   "outputs": [],
   "source": [
    "fashion_mnist=keras.datasets.fashion_mnist\n",
    "(x_train,y_train),(x_test,y_test)=fashion_mnist.load_data()"
   ]
  },
  {
   "cell_type": "code",
   "execution_count": 3,
   "metadata": {},
   "outputs": [],
   "source": [
    "import matplotlib.pyplot as plt"
   ]
  },
  {
   "cell_type": "code",
   "execution_count": 4,
   "metadata": {},
   "outputs": [
    {
     "data": {
      "text/plain": [
       "<matplotlib.image.AxesImage at 0x28ee2f1df48>"
      ]
     },
     "execution_count": 4,
     "metadata": {},
     "output_type": "execute_result"
    },
    {
     "data": {
      "image/png": "[encoded data removed]",
      "text/plain": [
       "<Figure size 432x288 with 1 Axes>"
      ]
     },
     "metadata": {
      "needs_background": "light"
     },
     "output_type": "display_data"
    }
   ],
   "source": [
    "plt.imshow(x_train[1])"
   ]
  },
  {
   "cell_type": "code",
   "execution_count": 5,
   "metadata": {},
   "outputs": [
    {
     "data": {
      "text/plain": [
       "<matplotlib.image.AxesImage at 0x28ee2fe4608>"
      ]
     },
     "execution_count": 5,
     "metadata": {},
     "output_type": "execute_result"
    },
    {
     "data": {
      "image/png": "[encoded data removed]",
      "text/plain": [
       "<Figure size 432x288 with 1 Axes>"
      ]
     },
     "metadata": {
      "needs_background": "light"
     },
     "output_type": "display_data"
    }
   ],
   "source": [
    "plt.imshow(x_train[1])"
   ]
  },
  {
   "cell_type": "code",
   "execution_count": 6,
   "metadata": {},
   "outputs": [
    {
     "data": {
      "text/plain": [
       "array([9, 0, 0, ..., 3, 0, 5], dtype=uint8)"
      ]
     },
     "execution_count": 6,
     "metadata": {},
     "output_type": "execute_result"
    }
   ],
   "source": [
    "y_train"
   ]
  },
  {
   "cell_type": "markdown",
   "metadata": {},
   "source": [
    "### Normalizing data"
   ]
  },
  {
   "cell_type": "code",
   "execution_count": 8,
   "metadata": {},
   "outputs": [],
   "source": [
    "x_train=x_train/255.0\n",
    "x_test=x_test/255.0"
   ]
  },
  {
   "cell_type": "markdown",
   "metadata": {},
   "source": [
    "### Splitting training data into train and validation data"
   ]
  },
  {
   "cell_type": "code",
   "execution_count": 10,
   "metadata": {},
   "outputs": [],
   "source": [
    "x_valid,x_train=x_train[:5000],x_train[5000:]\n",
    "y_valid,y_train=y_train[:5000],y_train[5000:]"
   ]
  },
  {
   "cell_type": "markdown",
   "metadata": {},
   "source": [
    "# Model Building"
   ]
  },
  {
   "cell_type": "code",
   "execution_count": 11,
   "metadata": {},
   "outputs": [],
   "source": [
    "model=keras.models.Sequential()\n",
    "model.add(keras.layers.Flatten(input_shape=[28,28])) # Flatten to convert 28*28 into 1D 784\n",
    "model.add(keras.layers.Dense(300,activation='relu')) # Hidden layer 1\n",
    "model.add(keras.layers.Dense(100,activation='relu')) # Hidden Layer 2\n",
    "model.add(keras.layers.Dense(10,activation='softmax')) # Output layer\n",
    "model.compile(loss='sparse_categorical_crossentropy',optimizer='sgd',metrics=['accuracy']) # loss and optimizers"
   ]
  },
  {
   "cell_type": "code",
   "execution_count": 12,
   "metadata": {},
   "outputs": [
    {
     "name": "stdout",
     "output_type": "stream",
     "text": [
      "Train on 55000 samples, validate on 5000 samples\n",
      "Epoch 1/30\n",
      "55000/55000 [==============================] - 5s 91us/step - loss: 0.7170 - accuracy: 0.7651 - val_loss: 0.5032 - val_accuracy: 0.8308\n",
      "Epoch 2/30\n",
      "55000/55000 [==============================] - 5s 87us/step - loss: 0.4929 - accuracy: 0.8275 - val_loss: 0.4610 - val_accuracy: 0.8402\n",
      "Epoch 3/30\n",
      "55000/55000 [==============================] - 5s 90us/step - loss: 0.4467 - accuracy: 0.8425 - val_loss: 0.4188 - val_accuracy: 0.8582\n",
      "Epoch 4/30\n",
      "55000/55000 [==============================] - 6s 106us/step - loss: 0.4188 - accuracy: 0.8528 - val_loss: 0.4173 - val_accuracy: 0.8516\n",
      "Epoch 5/30\n",
      "55000/55000 [==============================] - 5s 93us/step - loss: 0.3972 - accuracy: 0.8605 - val_loss: 0.3823 - val_accuracy: 0.8696\n",
      "Epoch 6/30\n",
      "55000/55000 [==============================] - 5s 94us/step - loss: 0.3810 - accuracy: 0.8657 - val_loss: 0.3759 - val_accuracy: 0.8690\n",
      "Epoch 7/30\n",
      "55000/55000 [==============================] - 5s 94us/step - loss: 0.3676 - accuracy: 0.8699 - val_loss: 0.3576 - val_accuracy: 0.8784\n",
      "Epoch 8/30\n",
      "55000/55000 [==============================] - 6s 117us/step - loss: 0.3559 - accuracy: 0.8729 - val_loss: 0.3592 - val_accuracy: 0.8742\n",
      "Epoch 9/30\n",
      "55000/55000 [==============================] - 6s 116us/step - loss: 0.3440 - accuracy: 0.8765 - val_loss: 0.3524 - val_accuracy: 0.8752\n",
      "Epoch 10/30\n",
      "55000/55000 [==============================] - 8s 137us/step - loss: 0.3370 - accuracy: 0.8796 - val_loss: 0.3452 - val_accuracy: 0.8746\n",
      "Epoch 11/30\n",
      "55000/55000 [==============================] - 8s 140us/step - loss: 0.3265 - accuracy: 0.8833 - val_loss: 0.3746 - val_accuracy: 0.8638\n",
      "Epoch 12/30\n",
      "55000/55000 [==============================] - 6s 115us/step - loss: 0.3185 - accuracy: 0.8862 - val_loss: 0.3287 - val_accuracy: 0.8830\n",
      "Epoch 13/30\n",
      "55000/55000 [==============================] - 6s 107us/step - loss: 0.3128 - accuracy: 0.8882 - val_loss: 0.3221 - val_accuracy: 0.8854\n",
      "Epoch 14/30\n",
      "55000/55000 [==============================] - 6s 107us/step - loss: 0.3051 - accuracy: 0.8899 - val_loss: 0.3243 - val_accuracy: 0.8850\n",
      "Epoch 15/30\n",
      "55000/55000 [==============================] - 6s 113us/step - loss: 0.2972 - accuracy: 0.8929 - val_loss: 0.3247 - val_accuracy: 0.8848\n",
      "Epoch 16/30\n",
      "55000/55000 [==============================] - 5s 94us/step - loss: 0.2929 - accuracy: 0.8943 - val_loss: 0.3180 - val_accuracy: 0.8848\n",
      "Epoch 17/30\n",
      "55000/55000 [==============================] - 5s 90us/step - loss: 0.2866 - accuracy: 0.8975 - val_loss: 0.3207 - val_accuracy: 0.8856\n",
      "Epoch 18/30\n",
      "55000/55000 [==============================] - 7s 119us/step - loss: 0.2813 - accuracy: 0.8986 - val_loss: 0.3355 - val_accuracy: 0.8812\n",
      "Epoch 19/30\n",
      "55000/55000 [==============================] - 7s 129us/step - loss: 0.2753 - accuracy: 0.9006 - val_loss: 0.3089 - val_accuracy: 0.8852\n",
      "Epoch 20/30\n",
      "55000/55000 [==============================] - 6s 116us/step - loss: 0.2701 - accuracy: 0.9032 - val_loss: 0.3257 - val_accuracy: 0.8798\n",
      "Epoch 21/30\n",
      "55000/55000 [==============================] - 6s 114us/step - loss: 0.2652 - accuracy: 0.9040 - val_loss: 0.3136 - val_accuracy: 0.8874\n",
      "Epoch 22/30\n",
      "55000/55000 [==============================] - 7s 119us/step - loss: 0.2599 - accuracy: 0.9051 - val_loss: 0.3093 - val_accuracy: 0.8854\n",
      "Epoch 23/30\n",
      "55000/55000 [==============================] - 6s 114us/step - loss: 0.2563 - accuracy: 0.9069 - val_loss: 0.3244 - val_accuracy: 0.8836\n",
      "Epoch 24/30\n",
      "55000/55000 [==============================] - 7s 128us/step - loss: 0.2522 - accuracy: 0.9096 - val_loss: 0.2938 - val_accuracy: 0.8938\n",
      "Epoch 25/30\n",
      "55000/55000 [==============================] - 7s 122us/step - loss: 0.2475 - accuracy: 0.9112 - val_loss: 0.3161 - val_accuracy: 0.8818\n",
      "Epoch 26/30\n",
      "55000/55000 [==============================] - 6s 118us/step - loss: 0.2426 - accuracy: 0.9121 - val_loss: 0.2968 - val_accuracy: 0.8918\n",
      "Epoch 27/30\n",
      "55000/55000 [==============================] - 7s 120us/step - loss: 0.2392 - accuracy: 0.9131 - val_loss: 0.3069 - val_accuracy: 0.8854\n",
      "Epoch 28/30\n",
      "55000/55000 [==============================] - 7s 122us/step - loss: 0.2349 - accuracy: 0.9156 - val_loss: 0.3038 - val_accuracy: 0.8888\n",
      "Epoch 29/30\n",
      "55000/55000 [==============================] - 7s 127us/step - loss: 0.2312 - accuracy: 0.9156 - val_loss: 0.3050 - val_accuracy: 0.8890\n",
      "Epoch 30/30\n",
      "55000/55000 [==============================] - 7s 126us/step - loss: 0.2274 - accuracy: 0.9183 - val_loss: 0.3057 - val_accuracy: 0.8844\n"
     ]
    }
   ],
   "source": [
    "model_history=model.fit(x_train,y_train,epochs=30,validation_data=(x_valid,y_valid))"
   ]
  },
  {
   "cell_type": "code",
   "execution_count": 13,
   "metadata": {},
   "outputs": [
    {
     "data": {
      "text/plain": [
       "{'batch_size': 32,\n",
       " 'epochs': 30,\n",
       " 'steps': None,\n",
       " 'samples': 55000,\n",
       " 'verbose': 1,\n",
       " 'do_validation': True,\n",
       " 'metrics': ['loss', 'accuracy', 'val_loss', 'val_accuracy']}"
      ]
     },
     "execution_count": 13,
     "metadata": {},
     "output_type": "execute_result"
    }
   ],
   "source": [
    "model_history.params"
   ]
  },
  {
   "cell_type": "code",
   "execution_count": 14,
   "metadata": {},
   "outputs": [
    {
     "data": {
      "text/plain": [
       "{'val_loss': [0.5031656807422638,\n",
       "  0.46096440811157224,\n",
       "  0.41879563641548156,\n",
       "  0.4173289874434471,\n",
       "  0.38228818858861924,\n",
       "  0.3759426197528839,\n",
       "  0.35758754456043246,\n",
       "  0.3592143246650696,\n",
       "  0.35243240047693253,\n",
       "  0.3451641120553017,\n",
       "  0.3745827665090561,\n",
       "  0.3286912300646305,\n",
       "  0.322138963329792,\n",
       "  0.32430504157543183,\n",
       "  0.3247020832180977,\n",
       "  0.31801664007306096,\n",
       "  0.3206825778365135,\n",
       "  0.33553677802085874,\n",
       "  0.30885252779722216,\n",
       "  0.3256956739127636,\n",
       "  0.31357199369072913,\n",
       "  0.30929241757392884,\n",
       "  0.32442824393510816,\n",
       "  0.2937776680827141,\n",
       "  0.31612932184934617,\n",
       "  0.29680341970622537,\n",
       "  0.30689462369680404,\n",
       "  0.30376068618297575,\n",
       "  0.30499407806396484,\n",
       "  0.30568909625709056],\n",
       " 'val_accuracy': [0.8307999968528748,\n",
       "  0.8402000069618225,\n",
       "  0.8582000136375427,\n",
       "  0.8515999913215637,\n",
       "  0.8695999979972839,\n",
       "  0.8690000176429749,\n",
       "  0.8784000277519226,\n",
       "  0.8741999864578247,\n",
       "  0.8751999735832214,\n",
       "  0.8745999932289124,\n",
       "  0.8637999892234802,\n",
       "  0.8830000162124634,\n",
       "  0.8853999972343445,\n",
       "  0.8849999904632568,\n",
       "  0.8848000168800354,\n",
       "  0.8848000168800354,\n",
       "  0.8855999708175659,\n",
       "  0.8812000155448914,\n",
       "  0.885200023651123,\n",
       "  0.879800021648407,\n",
       "  0.8873999714851379,\n",
       "  0.8853999972343445,\n",
       "  0.8835999965667725,\n",
       "  0.8938000202178955,\n",
       "  0.8817999958992004,\n",
       "  0.8917999863624573,\n",
       "  0.8853999972343445,\n",
       "  0.8888000249862671,\n",
       "  0.8889999985694885,\n",
       "  0.8844000101089478],\n",
       " 'loss': [0.7170001208088614,\n",
       "  0.4929309744661505,\n",
       "  0.44672766159231014,\n",
       "  0.41882163297046315,\n",
       "  0.3971508256782185,\n",
       "  0.38103233971162276,\n",
       "  0.3676494104211981,\n",
       "  0.35591800240169874,\n",
       "  0.34398109799731863,\n",
       "  0.3369962815219706,\n",
       "  0.32646127482327547,\n",
       "  0.3185183584841815,\n",
       "  0.3128168622710488,\n",
       "  0.3050823856093667,\n",
       "  0.29715017320784654,\n",
       "  0.29288352815454655,\n",
       "  0.2865512861685319,\n",
       "  0.2812696250568737,\n",
       "  0.2752887195587158,\n",
       "  0.27008265712911433,\n",
       "  0.2651699714682319,\n",
       "  0.25990466615069996,\n",
       "  0.2563343403957107,\n",
       "  0.25215005421096626,\n",
       "  0.24749991268678145,\n",
       "  0.2425624823548577,\n",
       "  0.23920890715338966,\n",
       "  0.23489844838489185,\n",
       "  0.2312416335149245,\n",
       "  0.22742952741276135],\n",
       " 'accuracy': [0.7650545,\n",
       "  0.82747275,\n",
       "  0.84245455,\n",
       "  0.8528,\n",
       "  0.86054546,\n",
       "  0.8656727,\n",
       "  0.86985457,\n",
       "  0.87290907,\n",
       "  0.87652725,\n",
       "  0.8795636,\n",
       "  0.88332725,\n",
       "  0.88616365,\n",
       "  0.8882,\n",
       "  0.8898909,\n",
       "  0.8929091,\n",
       "  0.89425457,\n",
       "  0.8975273,\n",
       "  0.8985818,\n",
       "  0.9006182,\n",
       "  0.9031818,\n",
       "  0.9039818,\n",
       "  0.90514547,\n",
       "  0.90694547,\n",
       "  0.9096,\n",
       "  0.91123635,\n",
       "  0.9121091,\n",
       "  0.9130545,\n",
       "  0.9156,\n",
       "  0.9156182,\n",
       "  0.9183273]}"
      ]
     },
     "execution_count": 14,
     "metadata": {},
     "output_type": "execute_result"
    }
   ],
   "source": [
    "model_history.history"
   ]
  },
  {
   "cell_type": "code",
   "execution_count": 16,
   "metadata": {},
   "outputs": [],
   "source": [
    "import pandas as pd"
   ]
  },
  {
   "cell_type": "code",
   "execution_count": 18,
   "metadata": {},
   "outputs": [
    {
     "data": {
      "image/png": "[encoded data removed]",
      "text/plain": [
       "<Figure size 576x360 with 1 Axes>"
      ]
     },
     "metadata": {
      "needs_background": "light"
     },
     "output_type": "display_data"
    }
   ],
   "source": [
    "pd.DataFrame(model_history.history).plot(figsize=(8,5))\n",
    "plt.grid(True)\n",
    "plt.gca().set_ylim(0,1)\n",
    "plt.show()"
   ]
  },
  {
   "cell_type": "code",
   "execution_count": 19,
   "metadata": {},
   "outputs": [
    {
     "name": "stdout",
     "output_type": "stream",
     "text": [
      "Model: \"sequential_1\"\n",
      "_________________________________________________________________\n",
      "Layer (type)                 Output Shape              Param #   \n",
      "=================================================================\n",
      "flatten_1 (Flatten)          (None, 784)               0         \n",
      "_________________________________________________________________\n",
      "dense_1 (Dense)              (None, 300)               235500    \n",
      "_________________________________________________________________\n",
      "dense_2 (Dense)              (None, 100)               30100     \n",
      "_________________________________________________________________\n",
      "dense_3 (Dense)              (None, 10)                1010      \n",
      "=================================================================\n",
      "Total params: 266,610\n",
      "Trainable params: 266,610\n",
      "Non-trainable params: 0\n",
      "_________________________________________________________________\n"
     ]
    }
   ],
   "source": [
    "model.summary()"
   ]
  },
  {
   "cell_type": "code",
   "execution_count": 20,
   "metadata": {},
   "outputs": [],
   "source": [
    "weights1,biases1=model.layers[1].get_weights() # First layer"
   ]
  },
  {
   "cell_type": "code",
   "execution_count": 21,
   "metadata": {},
   "outputs": [
    {
     "data": {
      "text/plain": [
       "array([[ 0.03728227, -0.0020578 ,  0.0465365 , ...,  0.06728382,\n",
       "        -0.05051509,  0.04530342],\n",
       "       [ 0.05932716, -0.0089924 , -0.06643976, ..., -0.02736903,\n",
       "         0.00888208, -0.05363593],\n",
       "       [ 0.04385217, -0.00081139,  0.05365853, ...,  0.04443881,\n",
       "         0.04936643,  0.00653212],\n",
       "       ...,\n",
       "       [ 0.02818109,  0.02063723,  0.06609206, ..., -0.05823121,\n",
       "         0.04767236,  0.05665664],\n",
       "       [-0.06705138, -0.05129656, -0.04784586, ..., -0.07401649,\n",
       "        -0.0267628 ,  0.05196651],\n",
       "       [-0.07082145, -0.00199925,  0.04472316, ...,  0.03030126,\n",
       "        -0.0214256 , -0.04397429]], dtype=float32)"
      ]
     },
     "execution_count": 21,
     "metadata": {},
     "output_type": "execute_result"
    }
   ],
   "source": [
    "weights1"
   ]
  },
  {
   "cell_type": "code",
   "execution_count": 22,
   "metadata": {},
   "outputs": [
    {
     "data": {
      "text/plain": [
       "(784, 300)"
      ]
     },
     "execution_count": 22,
     "metadata": {},
     "output_type": "execute_result"
    }
   ],
   "source": [
    "weights1.shape"
   ]
  },
  {
   "cell_type": "code",
   "execution_count": 23,
   "metadata": {},
   "outputs": [
    {
     "data": {
      "text/plain": [
       "(300,)"
      ]
     },
     "execution_count": 23,
     "metadata": {},
     "output_type": "execute_result"
    }
   ],
   "source": [
    "biases1.shape"
   ]
  },
  {
   "cell_type": "code",
   "execution_count": 24,
   "metadata": {},
   "outputs": [],
   "source": [
    "weights2,biases2=model.layers[2].get_weights() # second layer"
   ]
  },
  {
   "cell_type": "code",
   "execution_count": 25,
   "metadata": {},
   "outputs": [
    {
     "data": {
      "text/plain": [
       "(300, 100)"
      ]
     },
     "execution_count": 25,
     "metadata": {},
     "output_type": "execute_result"
    }
   ],
   "source": [
    "weights2.shape"
   ]
  },
  {
   "cell_type": "code",
   "execution_count": 26,
   "metadata": {},
   "outputs": [
    {
     "data": {
      "text/plain": [
       "(100,)"
      ]
     },
     "execution_count": 26,
     "metadata": {},
     "output_type": "execute_result"
    }
   ],
   "source": [
    "biases2.shape"
   ]
  },
  {
   "cell_type": "code",
   "execution_count": 27,
   "metadata": {},
   "outputs": [],
   "source": [
    "weights3,biases3=model.layers[3].get_weights() # Third layer"
   ]
  },
  {
   "cell_type": "code",
   "execution_count": 28,
   "metadata": {},
   "outputs": [
    {
     "data": {
      "text/plain": [
       "(100, 10)"
      ]
     },
     "execution_count": 28,
     "metadata": {},
     "output_type": "execute_result"
    }
   ],
   "source": [
    "weights3.shape"
   ]
  },
  {
   "cell_type": "code",
   "execution_count": 29,
   "metadata": {},
   "outputs": [
    {
     "data": {
      "text/plain": [
       "(10,)"
      ]
     },
     "execution_count": 29,
     "metadata": {},
     "output_type": "execute_result"
    }
   ],
   "source": [
    "biases3.shape"
   ]
  },
  {
   "cell_type": "code",
   "execution_count": 30,
   "metadata": {},
   "outputs": [
    {
     "data": {
      "text/plain": [
       "array([[ 2.20316052e-01,  1.14476405e-01,  1.69276878e-01,\n",
       "        -3.60860825e-01,  2.56077915e-01,  9.30311233e-02,\n",
       "        -9.63095129e-02,  1.97231665e-01, -2.13232294e-01,\n",
       "        -3.82994652e-01],\n",
       "       [ 1.58369258e-01, -1.89970806e-02,  2.60693699e-01,\n",
       "        -2.60468274e-01, -2.77140796e-01, -2.05235586e-01,\n",
       "        -4.72356617e-01, -2.42790952e-01,  3.32032114e-01,\n",
       "         3.87294918e-01],\n",
       "       [ 1.63019732e-01,  1.97673470e-01, -1.73864827e-01,\n",
       "        -2.01509863e-01,  3.25235389e-02,  1.89165398e-02,\n",
       "         3.70019898e-02, -3.49632241e-02, -1.51776552e-01,\n",
       "         1.81869566e-01],\n",
       "       [-1.35678157e-01,  6.46945834e-02,  8.38637128e-02,\n",
       "         1.46076069e-04,  1.27266437e-01,  9.54082832e-02,\n",
       "        -5.46869636e-01,  3.43179911e-01,  3.20667058e-01,\n",
       "        -2.34584540e-01],\n",
       "       [-2.52813101e-01,  9.32741314e-02,  1.44201696e-01,\n",
       "        -2.91094005e-01, -2.81700313e-01,  1.09208927e-01,\n",
       "         3.86398464e-01,  6.37796298e-02,  1.13098301e-01,\n",
       "        -2.53283709e-01],\n",
       "       [-1.19381829e-03,  3.17679435e-01,  1.61414579e-01,\n",
       "         4.85985816e-01, -9.41858217e-02,  3.40560347e-01,\n",
       "        -1.18304476e-01, -3.19354236e-01, -4.40503925e-01,\n",
       "        -1.50156185e-01],\n",
       "       [ 4.96699251e-02, -8.02721083e-02, -1.53834447e-02,\n",
       "        -2.44703814e-01, -6.87703267e-02, -1.90884888e-01,\n",
       "         5.63640296e-02,  1.50084913e-01, -6.53264597e-02,\n",
       "         3.88766006e-02],\n",
       "       [ 4.05665994e-01,  2.66006321e-01, -4.56773520e-01,\n",
       "         6.47267252e-02, -3.93546410e-02, -1.63863733e-01,\n",
       "         2.63292104e-01, -9.28724110e-02,  1.65651992e-01,\n",
       "        -8.29569250e-02],\n",
       "       [-3.30123365e-01, -1.37994751e-01, -2.16207467e-02,\n",
       "        -2.98013210e-01,  2.04693839e-01,  3.42301786e-01,\n",
       "         3.44308726e-02, -3.50798398e-01,  2.86752820e-01,\n",
       "        -1.94339395e-01],\n",
       "       [-2.50779122e-01, -1.31467283e-01, -2.45458037e-02,\n",
       "         1.29208088e-01, -1.13240942e-01, -4.68090810e-02,\n",
       "         2.98788846e-02,  5.27601615e-02,  1.69606745e-01,\n",
       "        -8.12249184e-02],\n",
       "       [ 9.66416299e-02, -1.72991887e-01,  2.38293484e-01,\n",
       "         9.98310074e-02,  2.11928040e-01,  2.19693884e-01,\n",
       "         2.07156882e-01, -1.78385839e-01, -3.88338208e-01,\n",
       "         9.01962966e-02],\n",
       "       [ 1.93290442e-01, -1.01955883e-01,  1.07826293e-01,\n",
       "        -7.99186304e-02,  3.49191017e-02,  2.90244427e-02,\n",
       "         2.11623847e-01, -2.16553703e-01,  9.88738090e-02,\n",
       "        -1.22053832e-01],\n",
       "       [ 1.84054792e-01,  8.14153478e-02, -2.93099857e-03,\n",
       "        -3.31363827e-01, -6.84221014e-02, -1.59736991e-01,\n",
       "         5.95152497e-01, -1.26374841e-01,  4.92108613e-02,\n",
       "         9.44454893e-02],\n",
       "       [ 1.26066044e-01,  1.68428391e-01, -5.14739633e-01,\n",
       "         3.53657573e-01,  4.81019050e-01,  1.00411996e-02,\n",
       "        -1.73068643e-01, -2.16731504e-01,  2.00499862e-01,\n",
       "         2.79978365e-02],\n",
       "       [ 1.41265288e-01,  5.00550210e-01, -5.55464625e-02,\n",
       "        -1.90340787e-01,  2.96683609e-01, -1.32059142e-01,\n",
       "         1.03955746e-01,  5.61517105e-02,  1.66473150e-01,\n",
       "        -2.45328531e-01],\n",
       "       [-1.91865548e-01, -1.30191192e-01, -3.88556272e-01,\n",
       "         3.39955799e-02, -2.72873670e-01,  4.23392862e-01,\n",
       "         2.28373960e-01,  4.89260405e-01,  9.85293239e-02,\n",
       "        -1.23778842e-01],\n",
       "       [ 3.03569615e-01,  6.18424155e-02, -8.40773582e-02,\n",
       "        -3.08322579e-01,  3.42413962e-01,  5.21405898e-02,\n",
       "         3.73854160e-01, -3.23825836e-01,  3.05990249e-01,\n",
       "        -3.34855080e-01],\n",
       "       [ 1.42913058e-01, -1.86498761e-01,  1.16688281e-01,\n",
       "        -3.52522358e-02,  2.65202969e-01,  2.99196154e-01,\n",
       "        -4.93569598e-02, -1.12583034e-01, -2.30735302e-01,\n",
       "        -3.46502900e-01],\n",
       "       [-7.73408860e-02, -1.18161246e-01,  2.09769487e-01,\n",
       "        -5.03245927e-02, -5.26260436e-02,  8.11047703e-02,\n",
       "         2.76595317e-02, -1.60424605e-01,  1.28368571e-01,\n",
       "         1.30727455e-01],\n",
       "       [ 1.85320556e-01, -1.07305028e-01, -1.56145424e-01,\n",
       "        -1.64106235e-01,  1.96604520e-01,  9.48895961e-02,\n",
       "         1.97830543e-01,  1.41312525e-01, -1.29006952e-01,\n",
       "         8.52715969e-02],\n",
       "       [ 1.14736505e-01, -3.66781384e-01, -1.92767352e-01,\n",
       "         1.74102470e-01,  3.24068442e-02,  4.24606740e-01,\n",
       "        -3.84069860e-01,  1.05139643e-01,  4.92989570e-02,\n",
       "         3.90806884e-01],\n",
       "       [-1.86434567e-01, -3.35923404e-01,  2.89971858e-01,\n",
       "         4.18259829e-01, -2.13864505e-01,  1.45939915e-02,\n",
       "         1.19465403e-01, -4.08069231e-02,  3.68729353e-01,\n",
       "        -2.38235846e-01],\n",
       "       [ 3.45319301e-01, -1.23021662e-01,  4.49336678e-01,\n",
       "        -1.96909204e-01, -5.47406912e-01,  5.07243633e-01,\n",
       "        -1.02369085e-01, -3.00942421e-01,  7.80557171e-02,\n",
       "         1.82570979e-01],\n",
       "       [ 3.59973013e-01,  2.19624609e-01,  2.09177673e-01,\n",
       "        -1.68485507e-01, -2.97893286e-01,  1.81882635e-01,\n",
       "         1.54157355e-01,  1.50154203e-01,  2.32656710e-02,\n",
       "        -2.59880036e-01],\n",
       "       [-3.14769775e-01,  2.30690107e-01,  4.67123121e-01,\n",
       "         1.12467378e-01,  1.86234072e-01, -3.73612881e-01,\n",
       "        -9.64707881e-02,  3.19090009e-01, -2.91743964e-01,\n",
       "        -3.30249250e-01],\n",
       "       [ 3.70184332e-02,  2.96406504e-02,  9.86159369e-02,\n",
       "        -2.13265568e-01, -1.37513384e-01,  1.92038164e-01,\n",
       "         2.06374288e-01, -4.97626960e-02,  1.65808976e-01,\n",
       "         2.18048081e-01],\n",
       "       [ 2.41657376e-01, -2.36784175e-01,  9.04669017e-02,\n",
       "         4.33574438e-01,  1.17171817e-01, -5.09902060e-01,\n",
       "        -1.07766435e-01, -2.57792026e-01,  3.91561627e-01,\n",
       "        -4.58159268e-01],\n",
       "       [-1.57111362e-01,  1.77612826e-01,  2.67840296e-01,\n",
       "         3.15587632e-02,  6.56270236e-02, -4.93950039e-01,\n",
       "        -2.88724661e-01, -8.18307325e-02,  4.95598525e-01,\n",
       "         3.43649447e-01],\n",
       "       [ 9.84352604e-02,  1.71902984e-01, -1.12728812e-02,\n",
       "         1.31071350e-02,  2.40567364e-02,  1.94404006e-01,\n",
       "        -1.16404168e-01, -7.70710558e-02, -9.62417424e-02,\n",
       "        -1.45974323e-01],\n",
       "       [ 7.18279183e-02,  1.73968256e-01,  2.27638260e-01,\n",
       "        -2.41557509e-01, -3.11097920e-01, -1.24554455e-01,\n",
       "         2.29743347e-01, -2.36947238e-01, -1.05847277e-01,\n",
       "        -7.93139860e-02],\n",
       "       [ 2.71742195e-01,  1.94981962e-01, -3.42014104e-01,\n",
       "        -2.96451617e-02, -1.52653297e-02, -3.65642458e-01,\n",
       "        -2.31029406e-01, -3.57664734e-01,  5.17523468e-01,\n",
       "        -1.59088373e-01],\n",
       "       [-1.08447477e-01, -7.38056004e-02,  4.53112215e-01,\n",
       "        -3.23618799e-01, -8.32307860e-02,  4.42374617e-01,\n",
       "         2.01147318e-01, -2.97621846e-01, -2.86536902e-01,\n",
       "        -2.92761087e-01],\n",
       "       [ 2.52965897e-01,  1.61018267e-01, -2.66057942e-02,\n",
       "        -2.36692816e-01,  1.88166663e-01, -7.66444835e-04,\n",
       "         1.85626924e-01, -3.21795464e-01, -2.60537744e-01,\n",
       "         1.43044233e-01],\n",
       "       [-3.54426116e-01, -3.44604522e-01,  1.02536693e-01,\n",
       "         3.91444951e-01, -2.45837957e-01,  3.40071261e-01,\n",
       "         2.85562389e-02,  1.57264486e-01,  1.74582556e-01,\n",
       "        -1.04188830e-01],\n",
       "       [-2.57450432e-01,  4.03494239e-01, -1.17718518e-01,\n",
       "         1.44452959e-01,  2.42556959e-01, -4.84746397e-01,\n",
       "         1.66871920e-02,  2.49807872e-02, -3.13956439e-01,\n",
       "         2.08390981e-01],\n",
       "       [ 3.67059261e-01,  2.18857527e-01,  1.45181686e-01,\n",
       "         4.73446213e-02, -1.65474474e-01, -3.06439996e-01,\n",
       "        -2.64625013e-01, -1.23012222e-01,  6.99603856e-02,\n",
       "         2.53739148e-01],\n",
       "       [-2.80563205e-01, -1.42039746e-01,  8.16369727e-02,\n",
       "         2.39026979e-01,  3.84227425e-01,  1.96711421e-01,\n",
       "        -3.35403055e-01,  1.89476162e-01,  3.93435746e-01,\n",
       "        -2.77490079e-01],\n",
       "       [-2.57166892e-01, -1.30475745e-01, -2.06116021e-01,\n",
       "         3.58557224e-01,  1.31111011e-01,  4.40438688e-01,\n",
       "        -6.63388908e-01,  1.03656746e-01, -2.39412412e-01,\n",
       "         3.74949992e-01],\n",
       "       [-9.51138325e-03, -3.95925827e-02,  8.98780897e-02,\n",
       "         2.61207193e-01,  3.15180808e-01, -5.93138218e-04,\n",
       "        -7.47512653e-02, -2.07256600e-01, -1.92679018e-01,\n",
       "        -2.70085633e-02],\n",
       "       [ 3.90155703e-01, -2.70378053e-01, -1.15206793e-01,\n",
       "        -9.25044045e-02,  1.62113041e-01,  5.15885174e-01,\n",
       "         1.69970006e-01, -3.24303806e-01,  3.19604985e-02,\n",
       "        -2.21822813e-01],\n",
       "       [-4.45348173e-01,  2.70654202e-01,  1.00150317e-01,\n",
       "         2.42808565e-01,  1.55332033e-03,  2.98258327e-02,\n",
       "         3.08962762e-01,  1.64802194e-01,  2.00542003e-01,\n",
       "         4.19021547e-02],\n",
       "       [-1.80535331e-01,  5.29299900e-02,  2.96694972e-02,\n",
       "         3.36408764e-01, -3.06956381e-01,  1.87841371e-01,\n",
       "         5.38898120e-03,  3.08430225e-01,  1.19963668e-01,\n",
       "        -1.93840876e-01],\n",
       "       [ 2.16359004e-01,  4.95436639e-02,  4.49833542e-01,\n",
       "         3.47195826e-02, -1.10076629e-01,  1.98139757e-01,\n",
       "         1.83691662e-02, -3.54251236e-01, -1.05179064e-01,\n",
       "        -2.10829824e-01],\n",
       "       [ 3.68754804e-01,  4.98508543e-01,  4.97413389e-02,\n",
       "        -2.63110340e-01, -2.04162866e-01, -1.57276258e-01,\n",
       "         2.44951069e-01, -1.50272727e-01, -3.75640571e-01,\n",
       "        -3.91330510e-01],\n",
       "       [-3.96632962e-02,  4.52317208e-01,  3.64405394e-01,\n",
       "        -1.36002460e-02,  1.61832362e-01, -6.30209625e-01,\n",
       "         1.91675797e-01, -2.32984841e-01, -3.78812015e-01,\n",
       "        -2.86344469e-01],\n",
       "       [ 2.64738470e-01, -1.10434875e-01, -1.35454506e-01,\n",
       "        -3.10437292e-01,  2.15692744e-02,  1.18577436e-01,\n",
       "         3.10697407e-01,  2.37500250e-01,  2.58170128e-01,\n",
       "        -1.01588229e-02],\n",
       "       [-3.62445533e-01,  6.39606193e-02, -9.89815369e-02,\n",
       "         5.77478744e-02,  2.50631392e-01, -1.32561103e-01,\n",
       "         3.90039198e-02, -8.60241055e-02,  3.95614386e-01,\n",
       "        -1.01618148e-01],\n",
       "       [ 3.49528044e-01, -2.00821087e-01,  4.48633552e-01,\n",
       "        -8.85604471e-02,  5.33827007e-01, -2.98005432e-01,\n",
       "        -3.55040997e-01, -1.72347695e-01, -6.60635158e-02,\n",
       "        -1.63572669e-01],\n",
       "       [ 3.80321890e-01, -4.23051804e-01,  3.44106823e-01,\n",
       "        -1.25837058e-01,  3.40133533e-02,  4.76454437e-01,\n",
       "        -1.20470338e-01, -4.24056739e-01, -6.71488494e-02,\n",
       "        -3.09613913e-01],\n",
       "       [-2.22764820e-01,  1.06904291e-01, -1.51339933e-01,\n",
       "         2.89822727e-01, -1.61078200e-01, -1.22106336e-01,\n",
       "         1.87168360e-01, -9.27446261e-02,  2.38970712e-01,\n",
       "        -8.05675536e-02],\n",
       "       [ 1.86203837e-01,  1.23324275e-01,  6.55317679e-02,\n",
       "         4.84234057e-02, -1.09097958e-01, -8.19782466e-02,\n",
       "        -5.19651696e-02,  2.01780245e-01, -8.35365951e-02,\n",
       "        -1.75994396e-01],\n",
       "       [-2.83017576e-01, -9.81456693e-03,  8.78346935e-02,\n",
       "         6.16036169e-02,  2.50824243e-01,  1.77124962e-01,\n",
       "         4.34732288e-01, -1.64109394e-01, -4.32586610e-01,\n",
       "         2.85052031e-01],\n",
       "       [-2.00190410e-01,  4.07568395e-01, -3.01081896e-01,\n",
       "        -4.27360326e-01,  1.29809558e-01,  4.10547763e-01,\n",
       "        -5.95742054e-02,  1.36219919e-01, -3.49037200e-01,\n",
       "         1.68988258e-02],\n",
       "       [ 5.97350113e-02,  2.22385883e-01,  4.35488112e-02,\n",
       "        -1.72120512e-01, -6.90622851e-02,  3.20663042e-02,\n",
       "         4.94498126e-02, -1.79492876e-01,  1.55070290e-01,\n",
       "        -2.30460577e-02],\n",
       "       [-3.87061179e-01, -3.48374285e-02,  6.34106100e-02,\n",
       "        -3.15245569e-01, -3.15579861e-01, -3.22216719e-01,\n",
       "        -1.18453674e-01, -2.00250983e-01,  3.14555705e-01,\n",
       "         5.19258201e-01],\n",
       "       [-3.72013986e-01,  1.48360148e-01,  4.23954636e-01,\n",
       "         3.39191049e-01, -2.52549559e-01,  2.29505420e-01,\n",
       "         1.26283109e-01, -3.07345599e-01,  5.15026301e-02,\n",
       "         1.17474668e-01],\n",
       "       [ 2.99042910e-01,  1.73599869e-01,  8.59750882e-02,\n",
       "         2.16211617e-01, -3.00146490e-02,  3.01281303e-01,\n",
       "         1.98623538e-01, -1.50425225e-01,  1.52447939e-01,\n",
       "        -1.75840091e-02],\n",
       "       [-1.98150873e-01, -1.17493607e-01,  4.60902333e-01,\n",
       "        -2.86100298e-01, -1.73844174e-01,  3.90460283e-01,\n",
       "        -1.66656263e-02,  3.18801373e-01,  1.81944683e-01,\n",
       "         1.31984010e-01],\n",
       "       [-8.67327452e-02,  1.07658822e-02, -8.71869922e-02,\n",
       "         2.06590578e-01, -2.23134428e-01, -3.36354971e-01,\n",
       "         3.22186887e-01, -1.07203662e-01,  3.74717444e-01,\n",
       "        -3.16005290e-01],\n",
       "       [-3.48848462e-01,  8.28702748e-02, -2.23728552e-01,\n",
       "         4.15207833e-01,  1.73376381e-01, -4.68288183e-01,\n",
       "        -2.67939806e-01,  7.29624927e-01, -9.94843867e-05,\n",
       "        -3.81901175e-01],\n",
       "       [ 3.55905533e-01, -4.56613690e-01,  1.61340013e-01,\n",
       "        -6.46078661e-02, -2.41434664e-01, -3.37065935e-01,\n",
       "         1.82399377e-01,  4.39258903e-01,  2.38744467e-02,\n",
       "         1.15622699e-01],\n",
       "       [-3.32926996e-02, -1.41958455e-02,  2.28014171e-01,\n",
       "        -1.58980921e-01, -1.43575162e-01,  1.57688275e-01,\n",
       "         4.01318967e-02, -1.92331105e-01, -1.51202865e-02,\n",
       "         4.40650806e-02],\n",
       "       [-1.08526908e-01, -7.35539421e-02,  1.49972916e-01,\n",
       "        -5.94717078e-02,  6.63528442e-02,  2.39351436e-01,\n",
       "         1.48051843e-01,  1.40331224e-01, -1.49014026e-01,\n",
       "         1.60545349e-01],\n",
       "       [ 1.93351269e-01,  1.64254948e-01, -3.13450068e-01,\n",
       "        -4.29285228e-01,  2.41594478e-01, -5.75151503e-01,\n",
       "        -3.17156971e-01,  2.68834710e-01,  7.48176053e-02,\n",
       "         5.77633381e-01],\n",
       "       [-5.39263368e-01, -2.30242744e-01, -5.73941708e-01,\n",
       "        -7.71028921e-02,  1.09397709e-01,  3.61096412e-01,\n",
       "         4.54297334e-01,  2.45346397e-01, -1.74440250e-01,\n",
       "         1.39392167e-01],\n",
       "       [ 5.99846579e-02,  1.44689232e-01, -2.26584420e-01,\n",
       "         6.65127039e-02, -3.33098888e-01,  5.74128747e-01,\n",
       "         3.09800178e-01, -6.67677224e-02, -1.39318136e-02,\n",
       "        -3.54631990e-01],\n",
       "       [ 7.23760799e-02,  7.48519078e-02, -1.48379192e-01,\n",
       "         3.20879310e-01, -1.48002893e-01, -5.57472229e-01,\n",
       "         1.92895800e-01,  4.78937924e-01, -9.28295404e-02,\n",
       "         3.40892702e-01],\n",
       "       [ 6.63633458e-04,  2.22004518e-01,  6.76775575e-02,\n",
       "        -6.61021993e-02, -1.50222018e-01,  2.45996445e-01,\n",
       "         8.75426084e-02, -1.52882546e-01, -1.59915954e-01,\n",
       "         2.15291619e-01],\n",
       "       [ 3.42449993e-01,  2.87572831e-01,  8.73009413e-02,\n",
       "        -3.32334071e-01,  4.05564755e-01,  1.29543543e-01,\n",
       "         1.84886038e-01, -4.73658204e-01,  2.25255102e-01,\n",
       "        -4.59461659e-01],\n",
       "       [-1.03886556e-02,  2.24008024e-01, -7.22883046e-02,\n",
       "         6.01812415e-02,  1.83369979e-01,  4.99387830e-02,\n",
       "        -2.14595199e-01, -8.80730972e-02, -2.32701778e-01,\n",
       "         3.79387960e-02],\n",
       "       [ 4.04434919e-01,  5.72431274e-02, -1.36704132e-01,\n",
       "         2.46719033e-01, -3.30060810e-01,  3.10946032e-02,\n",
       "        -2.00511590e-02, -2.15157300e-01,  1.45412341e-01,\n",
       "        -2.63883919e-01],\n",
       "       [ 1.78475603e-01, -1.86980039e-01, -4.29035306e-01,\n",
       "         1.08024262e-01,  7.35445321e-02,  3.30540806e-01,\n",
       "         5.74893951e-01, -6.07186593e-02, -4.99608815e-01,\n",
       "         3.04798961e-01],\n",
       "       [ 2.12162718e-01,  3.14112306e-02, -2.44527623e-01,\n",
       "         3.21481884e-01, -1.21839054e-01, -6.44609146e-03,\n",
       "         2.75609851e-01, -9.23280641e-02, -3.52141559e-01,\n",
       "         4.02600110e-01],\n",
       "       [ 2.92200804e-01,  2.70150483e-01,  2.35033438e-01,\n",
       "        -3.04733422e-02,  5.59313446e-02,  1.93261325e-01,\n",
       "        -2.96991765e-01, -3.12843382e-01,  2.04242960e-01,\n",
       "         4.05675590e-01],\n",
       "       [-1.45374611e-01, -2.03106895e-01,  1.95444878e-02,\n",
       "        -1.91758186e-01, -4.32952978e-02, -3.18278551e-01,\n",
       "        -3.38791274e-02,  3.22820246e-01,  1.05843686e-01,\n",
       "         3.58373851e-01],\n",
       "       [-2.93236256e-01,  1.39665857e-01, -4.45021391e-02,\n",
       "         2.06125855e-01,  3.08578730e-01,  5.18880598e-03,\n",
       "         2.24702120e-01,  5.68195768e-02,  1.78425625e-01,\n",
       "         2.04552010e-01],\n",
       "       [-1.33242562e-01, -2.73915589e-01, -3.23631853e-01,\n",
       "        -3.75289284e-02,  3.95625830e-01,  8.61812681e-02,\n",
       "         3.96922082e-01, -8.84033367e-02,  1.73349768e-01,\n",
       "        -1.18581168e-01],\n",
       "       [ 4.16282326e-01, -1.43746678e-02, -2.71741271e-01,\n",
       "         8.37847665e-02, -2.63063043e-01, -2.96497256e-01,\n",
       "         6.95427418e-01,  1.50859177e-01, -3.69726598e-01,\n",
       "        -4.86546662e-03],\n",
       "       [-1.47055641e-01,  1.84387699e-01,  3.28708053e-01,\n",
       "         1.87451281e-02,  3.45260620e-01,  1.53835773e-01,\n",
       "         1.55289143e-01, -6.40905201e-02, -3.97302419e-01,\n",
       "        -4.46936160e-01],\n",
       "       [ 1.17012084e-01, -2.68650483e-02, -4.04570937e-01,\n",
       "         1.34709030e-01, -2.68890202e-01,  4.29856747e-01,\n",
       "        -4.20912474e-01,  2.98151433e-01,  3.74371791e-03,\n",
       "         1.65168434e-01],\n",
       "       [ 1.35105297e-01,  3.13377947e-01,  1.54442251e-01,\n",
       "         2.07529232e-01,  2.73854971e-01, -6.20037973e-01,\n",
       "         3.49258244e-01, -3.27288181e-01, -2.33234689e-01,\n",
       "        -1.48744613e-01],\n",
       "       [ 2.39051923e-01,  9.92285758e-02, -2.33378381e-01,\n",
       "         2.36944318e-01,  1.97247162e-01, -1.56889409e-01,\n",
       "        -1.11879064e-02, -2.77510490e-02,  1.69505015e-01,\n",
       "         1.03875868e-01],\n",
       "       [ 1.94782540e-01,  8.02891105e-02, -1.77784618e-02,\n",
       "        -1.41502127e-01, -2.63415307e-01, -3.04139048e-01,\n",
       "         7.76435584e-02,  1.96261406e-01,  3.43885332e-01,\n",
       "        -9.68276784e-02],\n",
       "       [-4.83565181e-01,  5.89331210e-01,  1.10944040e-01,\n",
       "        -1.72690138e-01, -3.44080091e-01,  2.12974921e-01,\n",
       "         2.99976896e-02,  4.57810730e-01, -2.07603976e-01,\n",
       "         5.48131950e-02],\n",
       "       [ 2.32114986e-01, -3.90628219e-01,  1.03357986e-01,\n",
       "         5.56247652e-01,  1.05076507e-01, -3.75733852e-01,\n",
       "         3.18016484e-02, -3.67810011e-01,  1.63176030e-01,\n",
       "        -2.53395230e-01],\n",
       "       [ 3.92851271e-02, -2.30921477e-01, -1.84791416e-01,\n",
       "        -6.60943706e-03,  3.91951017e-02,  8.26400891e-02,\n",
       "         1.88126445e-01,  2.32699676e-03, -1.74938083e-01,\n",
       "        -2.38313019e-01],\n",
       "       [ 2.33164802e-01,  3.42591316e-01, -1.79640844e-01,\n",
       "         7.17793703e-02, -2.16404244e-01, -4.04824495e-01,\n",
       "         8.07925984e-02,  3.41933638e-01, -4.78374898e-01,\n",
       "         3.79528761e-01],\n",
       "       [ 2.49695599e-01, -2.93052882e-01,  1.44923419e-01,\n",
       "        -1.32883281e-01,  3.45278591e-01,  2.96451598e-01,\n",
       "        -5.40582418e-01,  2.91595291e-02,  3.14555287e-01,\n",
       "         1.25727803e-01],\n",
       "       [ 4.85207856e-01, -7.39080459e-02, -3.63634825e-01,\n",
       "         4.39965308e-01,  5.85707985e-02, -2.50748962e-01,\n",
       "        -2.24966869e-01, -1.39947474e-01,  1.61413863e-01,\n",
       "        -1.49003088e-01],\n",
       "       [ 2.76764389e-02, -1.84068158e-01,  1.48709103e-01,\n",
       "        -3.00720990e-01, -2.94828236e-01, -1.41062692e-01,\n",
       "        -1.68334290e-01,  5.86247504e-01,  3.24582875e-01,\n",
       "        -3.64554167e-01],\n",
       "       [ 1.38132498e-01,  2.47614220e-01, -2.66571730e-01,\n",
       "        -2.63849050e-01,  1.14168964e-01,  1.09884024e-01,\n",
       "        -3.65299404e-01, -1.97620243e-01, -2.05276772e-01,\n",
       "         3.43954302e-02],\n",
       "       [ 3.53258342e-01, -2.70186633e-01, -8.92348529e-04,\n",
       "        -4.09330785e-01,  1.22642800e-01,  4.58371252e-01,\n",
       "         1.76737770e-01, -7.72463977e-02, -8.79481509e-02,\n",
       "        -1.19795062e-01],\n",
       "       [ 1.13151167e-02, -4.93954837e-01,  4.60973501e-01,\n",
       "         1.77737493e-02,  4.17463958e-01, -8.32056552e-02,\n",
       "         3.64827991e-01, -2.16191262e-01,  1.35853976e-01,\n",
       "         1.66120306e-02],\n",
       "       [ 3.86796027e-01,  1.15572244e-01,  6.43616468e-02,\n",
       "         2.23997727e-01, -4.77208108e-01,  9.90203097e-02,\n",
       "         2.19132632e-01, -5.27374260e-02, -1.50819033e-01,\n",
       "        -1.03699580e-01],\n",
       "       [-4.92912710e-01,  3.32854629e-01,  2.47994184e-01,\n",
       "         1.16007783e-01,  2.49505848e-01,  1.76500827e-01,\n",
       "        -1.84182078e-02, -3.44584674e-01, -7.42286220e-02,\n",
       "        -2.39071682e-01],\n",
       "       [-3.00232112e-01, -3.83122504e-01, -1.23685077e-01,\n",
       "         4.28379923e-02,  2.89235294e-01, -3.62720758e-01,\n",
       "        -9.53869671e-02,  9.36461315e-02,  5.03177047e-01,\n",
       "         2.78299302e-01],\n",
       "       [ 2.90457070e-01, -6.58218801e-01,  3.51270974e-01,\n",
       "         1.30280271e-01,  1.29874721e-02, -5.54555357e-01,\n",
       "         7.46767759e-01, -5.52558482e-01,  2.63791412e-01,\n",
       "        -1.70990825e-01],\n",
       "       [ 1.41904473e-01, -3.68565395e-02,  2.72822618e-01,\n",
       "        -3.53016227e-01, -2.10631385e-01,  1.74132884e-01,\n",
       "         4.90551502e-01, -2.63935506e-01, -3.28988314e-01,\n",
       "         2.19809577e-01],\n",
       "       [ 1.03235625e-01, -2.04997044e-02, -3.19390267e-01,\n",
       "        -2.59029150e-01, -4.12174642e-01,  1.53435394e-01,\n",
       "        -1.53665617e-01,  4.83110324e-02,  3.80091131e-01,\n",
       "         3.23912829e-01],\n",
       "       [-1.94284022e-01,  2.17658103e-01,  1.11283913e-01,\n",
       "        -7.94987082e-02,  4.96252142e-02, -1.83137819e-01,\n",
       "        -4.23056968e-02, -1.43520692e-02, -2.07546905e-01,\n",
       "         1.77004725e-01]], dtype=float32)"
      ]
     },
     "execution_count": 30,
     "metadata": {},
     "output_type": "execute_result"
    }
   ],
   "source": [
    "weights3"
   ]
  },
  {
   "cell_type": "markdown",
   "metadata": {},
   "source": [
    "### Evaluation"
   ]
  },
  {
   "cell_type": "code",
   "execution_count": 32,
   "metadata": {},
   "outputs": [
    {
     "name": "stdout",
     "output_type": "stream",
     "text": [
      "10000/10000 [==============================] - 1s 105us/step\n"
     ]
    },
    {
     "data": {
      "text/plain": [
       "[0.3369321231126785, 0.8755999803543091]"
      ]
     },
     "execution_count": 32,
     "metadata": {},
     "output_type": "execute_result"
    }
   ],
   "source": [
    "model.evaluate(x_test,y_test)"
   ]
  },
  {
   "cell_type": "code",
   "execution_count": null,
   "metadata": {},
   "outputs": [],
   "source": [
    "#### Loss is 0.3369 Accuracy=0.8755"
   ]
  },
  {
   "cell_type": "markdown",
   "metadata": {},
   "source": [
    "### Predictions on new Unseen data"
   ]
  },
  {
   "cell_type": "code",
   "execution_count": 35,
   "metadata": {},
   "outputs": [],
   "source": [
    "x_new=x_test[:3] # Let's say there are 3 new records"
   ]
  },
  {
   "cell_type": "code",
   "execution_count": 37,
   "metadata": {},
   "outputs": [
    {
     "data": {
      "text/plain": [
       "array([[0., 0., 0., 0., 0., 0., 0., 0., 0., 1.],\n",
       "       [0., 0., 1., 0., 0., 0., 0., 0., 0., 0.],\n",
       "       [0., 1., 0., 0., 0., 0., 0., 0., 0., 0.]], dtype=float32)"
      ]
     },
     "execution_count": 37,
     "metadata": {},
     "output_type": "execute_result"
    }
   ],
   "source": [
    "y_proba=model.predict(x_new)\n",
    "y_proba.round(2)"
   ]
  },
  {
   "cell_type": "code",
   "execution_count": 38,
   "metadata": {},
   "outputs": [
    {
     "data": {
      "text/plain": [
       "array([9, 2, 1], dtype=int64)"
      ]
     },
     "execution_count": 38,
     "metadata": {},
     "output_type": "execute_result"
    }
   ],
   "source": [
    "y_pred=model.predict_classes(x_new)\n",
    "y_pred"
   ]
  },
  {
   "cell_type": "markdown",
   "metadata": {},
   "source": [
    "### Saving and Restoring model"
   ]
  },
  {
   "cell_type": "code",
   "execution_count": 40,
   "metadata": {},
   "outputs": [],
   "source": [
    "model.save(\"image_classifier_keras.h5\")"
   ]
  },
  {
   "cell_type": "code",
   "execution_count": 41,
   "metadata": {},
   "outputs": [
    {
     "data": {
      "text/plain": [
       "'C:\\\\Users\\\\sidre\\\\Desktop\\\\sri\\\\Python codes'"
      ]
     },
     "execution_count": 41,
     "metadata": {},
     "output_type": "execute_result"
    }
   ],
   "source": [
    "%pwd"
   ]
  },
  {
   "cell_type": "code",
   "execution_count": 42,
   "metadata": {},
   "outputs": [],
   "source": [
    "del model"
   ]
  },
  {
   "cell_type": "code",
   "execution_count": 43,
   "metadata": {},
   "outputs": [],
   "source": [
    "keras.backend.clear_session()"
   ]
  },
  {
   "cell_type": "code",
   "execution_count": null,
   "metadata": {},
   "outputs": [],
   "source": [
    "##### Cleared model and keras backend and loading saved model"
   ]
  },
  {
   "cell_type": "code",
   "execution_count": 44,
   "metadata": {},
   "outputs": [],
   "source": [
    "model=keras.models.load_model(\"image_classifier_keras.h5\")"
   ]
  },
  {
   "cell_type": "code",
   "execution_count": 45,
   "metadata": {},
   "outputs": [
    {
     "name": "stdout",
     "output_type": "stream",
     "text": [
      "Model: \"sequential_1\"\n",
      "_________________________________________________________________\n",
      "Layer (type)                 Output Shape              Param #   \n",
      "=================================================================\n",
      "flatten_1 (Flatten)          (None, 784)               0         \n",
      "_________________________________________________________________\n",
      "dense_1 (Dense)              (None, 300)               235500    \n",
      "_________________________________________________________________\n",
      "dense_2 (Dense)              (None, 100)               30100     \n",
      "_________________________________________________________________\n",
      "dense_3 (Dense)              (None, 10)                1010      \n",
      "=================================================================\n",
      "Total params: 266,610\n",
      "Trainable params: 266,610\n",
      "Non-trainable params: 0\n",
      "_________________________________________________________________\n"
     ]
    }
   ],
   "source": [
    "model.summary()"
   ]
  },
  {
   "cell_type": "code",
   "execution_count": 48,
   "metadata": {},
   "outputs": [],
   "source": [
    "y_pred=model.predict_classes(x_new)"
   ]
  },
  {
   "cell_type": "code",
   "execution_count": 49,
   "metadata": {},
   "outputs": [
    {
     "name": "stdout",
     "output_type": "stream",
     "text": [
      "[9 2 1]\n"
     ]
    }
   ],
   "source": [
    "print(y_pred)"
   ]
  },
  {
   "cell_type": "code",
   "execution_count": null,
   "metadata": {},
   "outputs": [],
   "source": []
  },
  {
   "cell_type": "markdown",
   "metadata": {},
   "source": [
    "### Using callbacks during Training... when the data size is high,we can use callbacks to save model after each epoch"
   ]
  },
  {
   "cell_type": "code",
   "execution_count": 65,
   "metadata": {},
   "outputs": [],
   "source": [
    "keras.backend.clear_session()"
   ]
  },
  {
   "cell_type": "code",
   "execution_count": 66,
   "metadata": {},
   "outputs": [],
   "source": [
    "import tensorflow as tf\n",
    "import numpy as np\n",
    "np.random.seed(42)\n",
    "tf.random.set_seed(42)"
   ]
  },
  {
   "cell_type": "code",
   "execution_count": 67,
   "metadata": {},
   "outputs": [],
   "source": [
    "model=keras.models.Sequential([keras.layers.Flatten(input_shape=[28,28]),\n",
    "                               keras.layers.Dense(30,activation='relu'),\n",
    "                               keras.layers.Dense(30,activation='relu'),\n",
    "                               keras.layers.Dense(10,activation='softmax')])"
   ]
  },
  {
   "cell_type": "code",
   "execution_count": 68,
   "metadata": {},
   "outputs": [],
   "source": [
    "model.compile(loss='sparse_categorical_crossentropy',optimizer='sgd',metrics=['accuracy']) # loss and optimizers"
   ]
  },
  {
   "cell_type": "code",
   "execution_count": 69,
   "metadata": {},
   "outputs": [],
   "source": [
    "checkpoint_cb=keras.callbacks.ModelCheckpoint(\"image_classifier_Model-{epoch:02d}.h5\")"
   ]
  },
  {
   "cell_type": "code",
   "execution_count": 70,
   "metadata": {},
   "outputs": [
    {
     "name": "stdout",
     "output_type": "stream",
     "text": [
      "Train on 55000 samples, validate on 5000 samples\n",
      "Epoch 1/10\n",
      "55000/55000 [==============================] - 5s 83us/step - loss: 0.8945 - accuracy: 0.7094 - val_loss: 0.5666 - val_accuracy: 0.8112\n",
      "Epoch 2/10\n",
      "55000/55000 [==============================] - 5s 91us/step - loss: 0.5411 - accuracy: 0.8129 - val_loss: 0.4734 - val_accuracy: 0.8388\n",
      "Epoch 3/10\n",
      "55000/55000 [==============================] - 6s 103us/step - loss: 0.4844 - accuracy: 0.8302 - val_loss: 0.4431 - val_accuracy: 0.8478\n",
      "Epoch 4/10\n",
      "55000/55000 [==============================] - 5s 87us/step - loss: 0.4560 - accuracy: 0.8390 - val_loss: 0.4357 - val_accuracy: 0.8520\n",
      "Epoch 5/10\n",
      "55000/55000 [==============================] - 5s 82us/step - loss: 0.4351 - accuracy: 0.8488 - val_loss: 0.4204 - val_accuracy: 0.8574\n",
      "Epoch 6/10\n",
      "55000/55000 [==============================] - 4s 77us/step - loss: 0.4212 - accuracy: 0.8533 - val_loss: 0.4208 - val_accuracy: 0.8570\n",
      "Epoch 7/10\n",
      "55000/55000 [==============================] - 5s 83us/step - loss: 0.4083 - accuracy: 0.8553 - val_loss: 0.3990 - val_accuracy: 0.8624\n",
      "Epoch 8/10\n",
      "55000/55000 [==============================] - 5s 83us/step - loss: 0.3975 - accuracy: 0.8610 - val_loss: 0.4149 - val_accuracy: 0.8530\n",
      "Epoch 9/10\n",
      "55000/55000 [==============================] - 5s 93us/step - loss: 0.3886 - accuracy: 0.8628 - val_loss: 0.3873 - val_accuracy: 0.8690\n",
      "Epoch 10/10\n",
      "55000/55000 [==============================] - 5s 97us/step - loss: 0.3803 - accuracy: 0.8657 - val_loss: 0.3779 - val_accuracy: 0.8694\n"
     ]
    }
   ],
   "source": [
    "history=model.fit(x_train,y_train,epochs=10,validation_data=(x_valid,y_valid),callbacks=[checkpoint_cb])"
   ]
  },
  {
   "cell_type": "code",
   "execution_count": 71,
   "metadata": {},
   "outputs": [],
   "source": [
    "del model"
   ]
  },
  {
   "cell_type": "code",
   "execution_count": 72,
   "metadata": {},
   "outputs": [],
   "source": [
    "keras.backend.clear_session()"
   ]
  },
  {
   "cell_type": "code",
   "execution_count": 73,
   "metadata": {},
   "outputs": [],
   "source": [
    "model=keras.models.load_model(\"image_classifier_Model-10.h5\")"
   ]
  },
  {
   "cell_type": "code",
   "execution_count": 74,
   "metadata": {},
   "outputs": [
    {
     "name": "stdout",
     "output_type": "stream",
     "text": [
      "10000/10000 [==============================] - 0s 44us/step\n"
     ]
    },
    {
     "data": {
      "text/plain": [
       "[0.4189669068813324, 0.8535000085830688]"
      ]
     },
     "execution_count": 74,
     "metadata": {},
     "output_type": "execute_result"
    }
   ],
   "source": [
    "model.evaluate(x_test,y_test)"
   ]
  },
  {
   "cell_type": "code",
   "execution_count": 75,
   "metadata": {},
   "outputs": [
    {
     "data": {
      "text/plain": [
       "array([9, 2, 1], dtype=int64)"
      ]
     },
     "execution_count": 75,
     "metadata": {},
     "output_type": "execute_result"
    }
   ],
   "source": [
    "model.predict_classes(x_new)"
   ]
  },
  {
   "cell_type": "code",
   "execution_count": null,
   "metadata": {},
   "outputs": [],
   "source": []
  },
  {
   "cell_type": "markdown",
   "metadata": {},
   "source": [
    "### Instead of saving model in each epoch,saving only best model only can be done by setting save_best_only=True in callbacks"
   ]
  },
  {
   "cell_type": "code",
   "execution_count": 77,
   "metadata": {},
   "outputs": [
    {
     "name": "stdout",
     "output_type": "stream",
     "text": [
      "Train on 55000 samples, validate on 5000 samples\n",
      "Epoch 1/10\n",
      "55000/55000 [==============================] - 6s 114us/step - loss: 0.8945 - accuracy: 0.7094 - val_loss: 0.5666 - val_accuracy: 0.8112\n",
      "Epoch 2/10\n",
      "55000/55000 [==============================] - 6s 108us/step - loss: 0.5411 - accuracy: 0.8129 - val_loss: 0.4734 - val_accuracy: 0.8388\n",
      "Epoch 3/10\n",
      "55000/55000 [==============================] - 6s 118us/step - loss: 0.4844 - accuracy: 0.8302 - val_loss: 0.4431 - val_accuracy: 0.8478\n",
      "Epoch 4/10\n",
      "55000/55000 [==============================] - 6s 105us/step - loss: 0.4560 - accuracy: 0.8390 - val_loss: 0.4357 - val_accuracy: 0.8520\n",
      "Epoch 5/10\n",
      "55000/55000 [==============================] - 6s 106us/step - loss: 0.4351 - accuracy: 0.8488 - val_loss: 0.4204 - val_accuracy: 0.8574\n",
      "Epoch 6/10\n",
      "55000/55000 [==============================] - 6s 112us/step - loss: 0.4212 - accuracy: 0.8533 - val_loss: 0.4208 - val_accuracy: 0.8570\n",
      "Epoch 7/10\n",
      "55000/55000 [==============================] - 6s 107us/step - loss: 0.4083 - accuracy: 0.8553 - val_loss: 0.3990 - val_accuracy: 0.8624\n",
      "Epoch 8/10\n",
      "55000/55000 [==============================] - 6s 104us/step - loss: 0.3975 - accuracy: 0.8610 - val_loss: 0.4149 - val_accuracy: 0.8530\n",
      "Epoch 9/10\n",
      "55000/55000 [==============================] - 5s 82us/step - loss: 0.3886 - accuracy: 0.8628 - val_loss: 0.3873 - val_accuracy: 0.8690\n",
      "Epoch 10/10\n",
      "55000/55000 [==============================] - 5s 87us/step - loss: 0.3803 - accuracy: 0.8657 - val_loss: 0.3779 - val_accuracy: 0.8694\n"
     ]
    }
   ],
   "source": [
    "keras.backend.clear_session()\n",
    "\n",
    "import tensorflow as tf\n",
    "import numpy as np\n",
    "np.random.seed(42)\n",
    "tf.random.set_seed(42)\n",
    "\n",
    "model=keras.models.Sequential([keras.layers.Flatten(input_shape=[28,28]),\n",
    "                               keras.layers.Dense(30,activation='relu'),\n",
    "                               keras.layers.Dense(30,activation='relu'),\n",
    "                               keras.layers.Dense(10,activation='softmax')])\n",
    "\n",
    "model.compile(loss='sparse_categorical_crossentropy',optimizer='sgd',metrics=['accuracy']) # loss and optimizers\n",
    "\n",
    "checkpoint_cb=keras.callbacks.ModelCheckpoint(\"image_classifier_best_model.h5\",save_best_only=True)\n",
    "\n",
    "history=model.fit(x_train,y_train,epochs=10,validation_data=(x_valid,y_valid),callbacks=[checkpoint_cb])"
   ]
  },
  {
   "cell_type": "code",
   "execution_count": 78,
   "metadata": {},
   "outputs": [],
   "source": [
    "del model"
   ]
  },
  {
   "cell_type": "code",
   "execution_count": 79,
   "metadata": {},
   "outputs": [],
   "source": [
    "keras.backend.clear_session()"
   ]
  },
  {
   "cell_type": "markdown",
   "metadata": {},
   "source": [
    "### Loading best model only"
   ]
  },
  {
   "cell_type": "code",
   "execution_count": 80,
   "metadata": {},
   "outputs": [],
   "source": [
    "model=keras.models.load_model(\"image_classifier_best_model.h5\")"
   ]
  },
  {
   "cell_type": "code",
   "execution_count": 81,
   "metadata": {},
   "outputs": [
    {
     "name": "stdout",
     "output_type": "stream",
     "text": [
      "10000/10000 [==============================] - 1s 72us/step\n"
     ]
    },
    {
     "data": {
      "text/plain": [
       "[0.4189669068813324, 0.8535000085830688]"
      ]
     },
     "execution_count": 81,
     "metadata": {},
     "output_type": "execute_result"
    }
   ],
   "source": [
    "model.evaluate(x_test,y_test)"
   ]
  },
  {
   "cell_type": "code",
   "execution_count": 83,
   "metadata": {},
   "outputs": [
    {
     "data": {
      "text/plain": [
       "array([9, 2, 1], dtype=int64)"
      ]
     },
     "execution_count": 83,
     "metadata": {},
     "output_type": "execute_result"
    }
   ],
   "source": [
    "model.predict_classes(x_new)"
   ]
  },
  {
   "cell_type": "code",
   "execution_count": 85,
   "metadata": {},
   "outputs": [],
   "source": [
    "del model"
   ]
  },
  {
   "cell_type": "markdown",
   "metadata": {},
   "source": [
    "### Using Early stopping"
   ]
  },
  {
   "cell_type": "code",
   "execution_count": 88,
   "metadata": {},
   "outputs": [
    {
     "name": "stdout",
     "output_type": "stream",
     "text": [
      "Train on 55000 samples, validate on 5000 samples\n",
      "Epoch 1/200\n",
      "55000/55000 [==============================] - 7s 120us/step - loss: 0.8945 - accuracy: 0.7094 - val_loss: 0.5666 - val_accuracy: 0.8112\n",
      "Epoch 2/200\n",
      "55000/55000 [==============================] - 7s 123us/step - loss: 0.5411 - accuracy: 0.8129 - val_loss: 0.4734 - val_accuracy: 0.8388\n",
      "Epoch 3/200\n",
      "55000/55000 [==============================] - 6s 117us/step - loss: 0.4844 - accuracy: 0.8302 - val_loss: 0.4431 - val_accuracy: 0.8478\n",
      "Epoch 4/200\n",
      "55000/55000 [==============================] - 6s 111us/step - loss: 0.4560 - accuracy: 0.8390 - val_loss: 0.4357 - val_accuracy: 0.8520\n",
      "Epoch 5/200\n",
      "55000/55000 [==============================] - 7s 122us/step - loss: 0.4351 - accuracy: 0.8488 - val_loss: 0.4204 - val_accuracy: 0.8574\n",
      "Epoch 6/200\n",
      "55000/55000 [==============================] - 7s 123us/step - loss: 0.4212 - accuracy: 0.8533 - val_loss: 0.4208 - val_accuracy: 0.8570\n",
      "Epoch 7/200\n",
      "55000/55000 [==============================] - 6s 116us/step - loss: 0.4083 - accuracy: 0.8553 - val_loss: 0.3990 - val_accuracy: 0.8624\n",
      "Epoch 8/200\n",
      "55000/55000 [==============================] - 7s 127us/step - loss: 0.3975 - accuracy: 0.8610 - val_loss: 0.4149 - val_accuracy: 0.8530\n",
      "Epoch 9/200\n",
      "55000/55000 [==============================] - 6s 113us/step - loss: 0.3886 - accuracy: 0.8628 - val_loss: 0.3873 - val_accuracy: 0.8690\n",
      "Epoch 10/200\n",
      "55000/55000 [==============================] - 6s 112us/step - loss: 0.3803 - accuracy: 0.8657 - val_loss: 0.3779 - val_accuracy: 0.8694\n",
      "Epoch 11/200\n",
      "55000/55000 [==============================] - 7s 128us/step - loss: 0.3721 - accuracy: 0.8686 - val_loss: 0.3881 - val_accuracy: 0.8632\n",
      "Epoch 12/200\n",
      "55000/55000 [==============================] - 7s 120us/step - loss: 0.3657 - accuracy: 0.8698 - val_loss: 0.3870 - val_accuracy: 0.8606\n",
      "Epoch 13/200\n",
      "55000/55000 [==============================] - 7s 132us/step - loss: 0.3589 - accuracy: 0.8733 - val_loss: 0.3713 - val_accuracy: 0.8692\n",
      "Epoch 14/200\n",
      "55000/55000 [==============================] - 7s 128us/step - loss: 0.3536 - accuracy: 0.8748 - val_loss: 0.3571 - val_accuracy: 0.8748\n",
      "Epoch 15/200\n",
      "55000/55000 [==============================] - 6s 116us/step - loss: 0.3474 - accuracy: 0.8765 - val_loss: 0.3746 - val_accuracy: 0.8670\n",
      "Epoch 16/200\n",
      "55000/55000 [==============================] - 7s 119us/step - loss: 0.3426 - accuracy: 0.8788 - val_loss: 0.3630 - val_accuracy: 0.8730\n",
      "Epoch 17/200\n",
      "55000/55000 [==============================] - 7s 129us/step - loss: 0.3387 - accuracy: 0.8793 - val_loss: 0.3577 - val_accuracy: 0.8706\n",
      "Epoch 18/200\n",
      "55000/55000 [==============================] - 7s 126us/step - loss: 0.3327 - accuracy: 0.8819 - val_loss: 0.3810 - val_accuracy: 0.8638\n",
      "Epoch 19/200\n",
      "55000/55000 [==============================] - 7s 120us/step - loss: 0.3307 - accuracy: 0.8822 - val_loss: 0.3532 - val_accuracy: 0.8702\n",
      "Epoch 20/200\n",
      "55000/55000 [==============================] - 6s 116us/step - loss: 0.3268 - accuracy: 0.8833 - val_loss: 0.3526 - val_accuracy: 0.8742\n",
      "Epoch 21/200\n",
      "55000/55000 [==============================] - 7s 119us/step - loss: 0.3216 - accuracy: 0.8850 - val_loss: 0.3490 - val_accuracy: 0.8750\n",
      "Epoch 22/200\n",
      "55000/55000 [==============================] - 7s 124us/step - loss: 0.3182 - accuracy: 0.8860 - val_loss: 0.3442 - val_accuracy: 0.8764\n",
      "Epoch 23/200\n",
      "55000/55000 [==============================] - 7s 123us/step - loss: 0.3147 - accuracy: 0.8874 - val_loss: 0.3472 - val_accuracy: 0.8738\n",
      "Epoch 24/200\n",
      "55000/55000 [==============================] - 7s 125us/step - loss: 0.3113 - accuracy: 0.8895 - val_loss: 0.3546 - val_accuracy: 0.8714\n",
      "Epoch 25/200\n",
      "55000/55000 [==============================] - 7s 126us/step - loss: 0.3088 - accuracy: 0.8901 - val_loss: 0.3466 - val_accuracy: 0.8696\n",
      "Epoch 26/200\n",
      "55000/55000 [==============================] - 8s 138us/step - loss: 0.3056 - accuracy: 0.8906 - val_loss: 0.3486 - val_accuracy: 0.8724\n",
      "Epoch 27/200\n",
      "55000/55000 [==============================] - 6s 118us/step - loss: 0.3028 - accuracy: 0.8911 - val_loss: 0.3532 - val_accuracy: 0.8730\n",
      "Epoch 28/200\n",
      "55000/55000 [==============================] - 7s 119us/step - loss: 0.3000 - accuracy: 0.8913 - val_loss: 0.3505 - val_accuracy: 0.8716\n",
      "Epoch 29/200\n",
      "55000/55000 [==============================] - 7s 127us/step - loss: 0.2978 - accuracy: 0.8934 - val_loss: 0.3433 - val_accuracy: 0.8778\n",
      "Epoch 30/200\n",
      "55000/55000 [==============================] - 7s 119us/step - loss: 0.2948 - accuracy: 0.8931 - val_loss: 0.3527 - val_accuracy: 0.8754\n",
      "Epoch 31/200\n",
      "55000/55000 [==============================] - 7s 119us/step - loss: 0.2916 - accuracy: 0.8956 - val_loss: 0.3569 - val_accuracy: 0.8742\n",
      "Epoch 32/200\n",
      "55000/55000 [==============================] - 6s 118us/step - loss: 0.2894 - accuracy: 0.8955 - val_loss: 0.3411 - val_accuracy: 0.8768\n",
      "Epoch 33/200\n",
      "55000/55000 [==============================] - 6s 118us/step - loss: 0.2888 - accuracy: 0.8953 - val_loss: 0.3386 - val_accuracy: 0.8740\n",
      "Epoch 34/200\n",
      "55000/55000 [==============================] - 7s 124us/step - loss: 0.2856 - accuracy: 0.8966 - val_loss: 0.3356 - val_accuracy: 0.8774\n",
      "Epoch 35/200\n",
      "55000/55000 [==============================] - 6s 114us/step - loss: 0.2842 - accuracy: 0.8973 - val_loss: 0.3297 - val_accuracy: 0.8804\n",
      "Epoch 36/200\n",
      "55000/55000 [==============================] - 7s 127us/step - loss: 0.2815 - accuracy: 0.8991 - val_loss: 0.3380 - val_accuracy: 0.8778\n",
      "Epoch 37/200\n",
      "55000/55000 [==============================] - 7s 124us/step - loss: 0.2787 - accuracy: 0.8993 - val_loss: 0.3353 - val_accuracy: 0.8788\n",
      "Epoch 38/200\n",
      "55000/55000 [==============================] - 6s 115us/step - loss: 0.2766 - accuracy: 0.9003 - val_loss: 0.3414 - val_accuracy: 0.8738\n",
      "Epoch 39/200\n",
      "55000/55000 [==============================] - 7s 124us/step - loss: 0.2753 - accuracy: 0.9008 - val_loss: 0.3359 - val_accuracy: 0.8774\n",
      "Epoch 40/200\n",
      "55000/55000 [==============================] - 7s 127us/step - loss: 0.2729 - accuracy: 0.9012 - val_loss: 0.3515 - val_accuracy: 0.8768\n",
      "Epoch 41/200\n",
      "55000/55000 [==============================] - 6s 115us/step - loss: 0.2709 - accuracy: 0.9020 - val_loss: 0.3384 - val_accuracy: 0.8776\n",
      "Epoch 42/200\n",
      "55000/55000 [==============================] - 6s 107us/step - loss: 0.2696 - accuracy: 0.9037 - val_loss: 0.3328 - val_accuracy: 0.8798\n",
      "Epoch 43/200\n",
      "55000/55000 [==============================] - 6s 101us/step - loss: 0.2677 - accuracy: 0.9031 - val_loss: 0.3625 - val_accuracy: 0.8718\n",
      "Epoch 44/200\n",
      "55000/55000 [==============================] - 6s 104us/step - loss: 0.2658 - accuracy: 0.9044 - val_loss: 0.3533 - val_accuracy: 0.8740\n",
      "Epoch 45/200\n",
      "55000/55000 [==============================] - 6s 104us/step - loss: 0.2644 - accuracy: 0.9041 - val_loss: 0.3418 - val_accuracy: 0.8774\n"
     ]
    }
   ],
   "source": [
    "keras.backend.clear_session()\n",
    "\n",
    "import tensorflow as tf\n",
    "import numpy as np\n",
    "np.random.seed(42)\n",
    "tf.random.set_seed(42)\n",
    "\n",
    "model=keras.models.Sequential([keras.layers.Flatten(input_shape=[28,28]),\n",
    "                               keras.layers.Dense(30,activation='relu'),\n",
    "                               keras.layers.Dense(30,activation='relu'),\n",
    "                               keras.layers.Dense(10,activation='softmax')])\n",
    "\n",
    "model.compile(loss='sparse_categorical_crossentropy',optimizer='sgd',metrics=['accuracy']) # loss and optimizers\n",
    "\n",
    "checkpoint_cb=keras.callbacks.ModelCheckpoint(\"image_classifier_early_stopped_model.h5\",save_best_only=True)\n",
    "early_stopping_cb=keras.callbacks.EarlyStopping(patience=10,restore_best_weights=True)\n",
    "##### Number of epochs after which no improvement after which training will be stopped\n",
    "history=model.fit(x_train,y_train,epochs=200,validation_data=(x_valid,y_valid),callbacks=[checkpoint_cb,early_stopping_cb])"
   ]
  },
  {
   "cell_type": "code",
   "execution_count": 89,
   "metadata": {},
   "outputs": [],
   "source": [
    "del model\n",
    "keras.backend.clear_session()"
   ]
  },
  {
   "cell_type": "code",
   "execution_count": 91,
   "metadata": {},
   "outputs": [
    {
     "name": "stdout",
     "output_type": "stream",
     "text": [
      "10000/10000 [==============================] - 0s 22us/step\n",
      "[0.36686684391498564, 0.8689000010490417]\n"
     ]
    },
    {
     "data": {
      "text/plain": [
       "array([9, 2, 1], dtype=int64)"
      ]
     },
     "execution_count": 91,
     "metadata": {},
     "output_type": "execute_result"
    }
   ],
   "source": [
    "model=keras.models.load_model(\"image_classifier_early_stopped_model.h5\")\n",
    "print(model.evaluate(x_test,y_test))\n",
    "model.predict_classes(x_new)"
   ]
  },
  {
   "cell_type": "raw",
   "metadata": {},
   "source": [
    "##### Hyper parameters: Learning Rate,Batch size,Epochs"
   ]
  },
  {
   "cell_type": "code",
   "execution_count": null,
   "metadata": {},
   "outputs": [],
   "source": []
  }
 ],
 "metadata": {
  "kernelspec": {
   "display_name": "Python 3",
   "language": "python",
   "name": "python3"
  },
  "language_info": {
   "codemirror_mode": {
    "name": "ipython",
    "version": 3
   },
   "file_extension": ".py",
   "mimetype": "text/x-python",
   "name": "python",
   "nbconvert_exporter": "python",
   "pygments_lexer": "ipython3",
   "version": "3.7.7"
  }
 },
 "nbformat": 4,
 "nbformat_minor": 4
}
