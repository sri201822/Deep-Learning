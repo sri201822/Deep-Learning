{
 "cells": [
  {
   "cell_type": "markdown",
   "metadata": {},
   "source": [
    "# Regression using keras"
   ]
  },
  {
   "cell_type": "code",
   "execution_count": 1,
   "metadata": {},
   "outputs": [],
   "source": [
    "import pandas as pd\n",
    "df=pd.read_csv(\"https://data.heatonresearch.com/data/t81-558/jh-simple-dataset.csv\",na_values=['NA','?'])"
   ]
  },
  {
   "cell_type": "code",
   "execution_count": 2,
   "metadata": {},
   "outputs": [
    {
     "data": {
      "text/html": [
       "<div>\n",
       "<style scoped>\n",
       "    .dataframe tbody tr th:only-of-type {\n",
       "        vertical-align: middle;\n",
       "    }\n",
       "\n",
       "    .dataframe tbody tr th {\n",
       "        vertical-align: top;\n",
       "    }\n",
       "\n",
       "    .dataframe thead th {\n",
       "        text-align: right;\n",
       "    }\n",
       "</style>\n",
       "<table border=\"1\" class=\"dataframe\">\n",
       "  <thead>\n",
       "    <tr style=\"text-align: right;\">\n",
       "      <th></th>\n",
       "      <th>id</th>\n",
       "      <th>job</th>\n",
       "      <th>area</th>\n",
       "      <th>income</th>\n",
       "      <th>aspect</th>\n",
       "      <th>subscriptions</th>\n",
       "      <th>dist_healthy</th>\n",
       "      <th>save_rate</th>\n",
       "      <th>dist_unhealthy</th>\n",
       "      <th>age</th>\n",
       "      <th>pop_dense</th>\n",
       "      <th>retail_dense</th>\n",
       "      <th>crime</th>\n",
       "      <th>product</th>\n",
       "    </tr>\n",
       "  </thead>\n",
       "  <tbody>\n",
       "    <tr>\n",
       "      <td>0</td>\n",
       "      <td>1</td>\n",
       "      <td>vv</td>\n",
       "      <td>c</td>\n",
       "      <td>50876.0</td>\n",
       "      <td>13.100000</td>\n",
       "      <td>1</td>\n",
       "      <td>9.017895</td>\n",
       "      <td>35</td>\n",
       "      <td>11.738935</td>\n",
       "      <td>49</td>\n",
       "      <td>0.885827</td>\n",
       "      <td>0.492126</td>\n",
       "      <td>0.071100</td>\n",
       "      <td>b</td>\n",
       "    </tr>\n",
       "    <tr>\n",
       "      <td>1</td>\n",
       "      <td>2</td>\n",
       "      <td>kd</td>\n",
       "      <td>c</td>\n",
       "      <td>60369.0</td>\n",
       "      <td>18.625000</td>\n",
       "      <td>2</td>\n",
       "      <td>7.766643</td>\n",
       "      <td>59</td>\n",
       "      <td>6.805396</td>\n",
       "      <td>51</td>\n",
       "      <td>0.874016</td>\n",
       "      <td>0.342520</td>\n",
       "      <td>0.400809</td>\n",
       "      <td>c</td>\n",
       "    </tr>\n",
       "    <tr>\n",
       "      <td>2</td>\n",
       "      <td>3</td>\n",
       "      <td>pe</td>\n",
       "      <td>c</td>\n",
       "      <td>55126.0</td>\n",
       "      <td>34.766667</td>\n",
       "      <td>1</td>\n",
       "      <td>3.632069</td>\n",
       "      <td>6</td>\n",
       "      <td>13.671772</td>\n",
       "      <td>44</td>\n",
       "      <td>0.944882</td>\n",
       "      <td>0.724409</td>\n",
       "      <td>0.207723</td>\n",
       "      <td>b</td>\n",
       "    </tr>\n",
       "    <tr>\n",
       "      <td>3</td>\n",
       "      <td>4</td>\n",
       "      <td>11</td>\n",
       "      <td>c</td>\n",
       "      <td>51690.0</td>\n",
       "      <td>15.808333</td>\n",
       "      <td>1</td>\n",
       "      <td>5.372942</td>\n",
       "      <td>16</td>\n",
       "      <td>4.333286</td>\n",
       "      <td>50</td>\n",
       "      <td>0.889764</td>\n",
       "      <td>0.444882</td>\n",
       "      <td>0.361216</td>\n",
       "      <td>b</td>\n",
       "    </tr>\n",
       "    <tr>\n",
       "      <td>4</td>\n",
       "      <td>5</td>\n",
       "      <td>kl</td>\n",
       "      <td>d</td>\n",
       "      <td>28347.0</td>\n",
       "      <td>40.941667</td>\n",
       "      <td>3</td>\n",
       "      <td>3.822477</td>\n",
       "      <td>20</td>\n",
       "      <td>5.967121</td>\n",
       "      <td>38</td>\n",
       "      <td>0.744094</td>\n",
       "      <td>0.661417</td>\n",
       "      <td>0.068033</td>\n",
       "      <td>a</td>\n",
       "    </tr>\n",
       "  </tbody>\n",
       "</table>\n",
       "</div>"
      ],
      "text/plain": [
       "   id job area   income     aspect  subscriptions  dist_healthy  save_rate  \\\n",
       "0   1  vv    c  50876.0  13.100000              1      9.017895         35   \n",
       "1   2  kd    c  60369.0  18.625000              2      7.766643         59   \n",
       "2   3  pe    c  55126.0  34.766667              1      3.632069          6   \n",
       "3   4  11    c  51690.0  15.808333              1      5.372942         16   \n",
       "4   5  kl    d  28347.0  40.941667              3      3.822477         20   \n",
       "\n",
       "   dist_unhealthy  age  pop_dense  retail_dense     crime product  \n",
       "0       11.738935   49   0.885827      0.492126  0.071100       b  \n",
       "1        6.805396   51   0.874016      0.342520  0.400809       c  \n",
       "2       13.671772   44   0.944882      0.724409  0.207723       b  \n",
       "3        4.333286   50   0.889764      0.444882  0.361216       b  \n",
       "4        5.967121   38   0.744094      0.661417  0.068033       a  "
      ]
     },
     "metadata": {},
     "output_type": "display_data"
    }
   ],
   "source": [
    "display(df[0:5])"
   ]
  },
  {
   "cell_type": "markdown",
   "metadata": {},
   "source": [
    "here we need to convert area,income,product into dummies for further processing"
   ]
  },
  {
   "cell_type": "code",
   "execution_count": 3,
   "metadata": {},
   "outputs": [],
   "source": [
    "df=pd.concat([df,pd.get_dummies(df['area'],prefix='area')],axis=1)\n",
    "df=df.drop('area',axis=1)"
   ]
  },
  {
   "cell_type": "code",
   "execution_count": 4,
   "metadata": {},
   "outputs": [],
   "source": [
    "df=pd.concat([df,pd.get_dummies(df['job'],prefix='job')],axis=1)\n",
    "df=df.drop('job',axis=1)"
   ]
  },
  {
   "cell_type": "code",
   "execution_count": 5,
   "metadata": {},
   "outputs": [],
   "source": [
    "df=pd.concat([df,pd.get_dummies(df['product'],prefix='product')],axis=1)\n",
    "df=df.drop('product',axis=1)"
   ]
  },
  {
   "cell_type": "markdown",
   "metadata": {},
   "source": [
    "# Check and treat for missing values"
   ]
  },
  {
   "cell_type": "code",
   "execution_count": 6,
   "metadata": {},
   "outputs": [
    {
     "data": {
      "text/plain": [
       "id                 0\n",
       "income            59\n",
       "aspect             0\n",
       "subscriptions      0\n",
       "dist_healthy       0\n",
       "save_rate          0\n",
       "dist_unhealthy     0\n",
       "age                0\n",
       "pop_dense          0\n",
       "retail_dense       0\n",
       "crime              0\n",
       "area_a             0\n",
       "area_b             0\n",
       "area_c             0\n",
       "area_d             0\n",
       "job_11             0\n",
       "job_al             0\n",
       "job_am             0\n",
       "job_ax             0\n",
       "job_bf             0\n",
       "job_by             0\n",
       "job_cv             0\n",
       "job_de             0\n",
       "job_dz             0\n",
       "job_e2             0\n",
       "job_f8             0\n",
       "job_gj             0\n",
       "job_gv             0\n",
       "job_kd             0\n",
       "job_ke             0\n",
       "job_kl             0\n",
       "job_kp             0\n",
       "job_ks             0\n",
       "job_kw             0\n",
       "job_mm             0\n",
       "job_nb             0\n",
       "job_nn             0\n",
       "job_ob             0\n",
       "job_pe             0\n",
       "job_po             0\n",
       "job_pq             0\n",
       "job_pz             0\n",
       "job_qp             0\n",
       "job_qw             0\n",
       "job_rn             0\n",
       "job_sa             0\n",
       "job_vv             0\n",
       "job_zz             0\n",
       "product_a          0\n",
       "product_b          0\n",
       "product_c          0\n",
       "product_d          0\n",
       "product_e          0\n",
       "product_f          0\n",
       "product_g          0\n",
       "dtype: int64"
      ]
     },
     "execution_count": 6,
     "metadata": {},
     "output_type": "execute_result"
    }
   ],
   "source": [
    "df.isna().sum()"
   ]
  },
  {
   "cell_type": "markdown",
   "metadata": {},
   "source": [
    "Observation: Income column has missing values"
   ]
  },
  {
   "cell_type": "code",
   "execution_count": 7,
   "metadata": {},
   "outputs": [
    {
     "data": {
      "text/plain": [
       "count     1941.000000\n",
       "mean     56924.861927\n",
       "std      10188.938399\n",
       "min      19846.000000\n",
       "25%      51336.000000\n",
       "50%      58633.000000\n",
       "75%      64407.000000\n",
       "max      88671.000000\n",
       "Name: income, dtype: float64"
      ]
     },
     "execution_count": 7,
     "metadata": {},
     "output_type": "execute_result"
    }
   ],
   "source": [
    "df['income'].describe()"
   ]
  },
  {
   "cell_type": "code",
   "execution_count": 8,
   "metadata": {},
   "outputs": [
    {
     "data": {
      "text/plain": [
       "<matplotlib.axes._subplots.AxesSubplot at 0x1b1d88c3a08>"
      ]
     },
     "execution_count": 8,
     "metadata": {},
     "output_type": "execute_result"
    }
   ],
   "source": [
    "import seaborn as sns\n",
    "sns.set_style(\"whitegrid\") \n",
    "sns.boxplot(y = 'income', data = df) "
   ]
  },
  {
   "cell_type": "markdown",
   "metadata": {},
   "source": [
    "Clearly there are outliers so replacing missing values with median"
   ]
  },
  {
   "cell_type": "code",
   "execution_count": 9,
   "metadata": {},
   "outputs": [],
   "source": [
    "df['income']=df['income'].fillna(df['income'].median())"
   ]
  },
  {
   "cell_type": "markdown",
   "metadata": {},
   "source": [
    "Standardisation of numeric values with z scores"
   ]
  },
  {
   "cell_type": "code",
   "execution_count": 10,
   "metadata": {},
   "outputs": [],
   "source": [
    "from scipy.stats import zscore\n",
    "df['income']=zscore(df['income'])\n",
    "df['aspect'] = zscore(df['aspect'])\n",
    "df['save_rate'] = zscore(df['save_rate'])\n",
    "df['subscriptions'] = zscore(df['subscriptions'])"
   ]
  },
  {
   "cell_type": "code",
   "execution_count": 11,
   "metadata": {},
   "outputs": [],
   "source": [
    "# dependent and independent variable split. here age is dependent variable\n",
    "y=df['age'].values\n",
    "x_columns=df.columns.drop(['age','id'])\n",
    "x=df[x_columns].values"
   ]
  },
  {
   "cell_type": "code",
   "execution_count": 12,
   "metadata": {},
   "outputs": [],
   "source": [
    "# Test train split\n",
    "from sklearn.model_selection import train_test_split\n",
    "x_train,x_test,y_train,y_test=train_test_split(x,y,test_size=0.25,random_state=100)"
   ]
  },
  {
   "cell_type": "code",
   "execution_count": 13,
   "metadata": {},
   "outputs": [
    {
     "data": {
      "text/plain": [
       "(2000, 53)"
      ]
     },
     "execution_count": 13,
     "metadata": {},
     "output_type": "execute_result"
    }
   ],
   "source": [
    "x.shape"
   ]
  },
  {
   "cell_type": "code",
   "execution_count": 14,
   "metadata": {},
   "outputs": [
    {
     "name": "stdout",
     "output_type": "stream",
     "text": [
      "Train on 1500 samples, validate on 500 samples\n",
      "Epoch 1/1000\n",
      "1500/1500 - 2s - loss: 2346.5138 - val_loss: 2137.2508\n",
      "Epoch 2/1000\n",
      "1500/1500 - 0s - loss: 2073.6423 - val_loss: 1989.5670\n",
      "Epoch 3/1000\n",
      "1500/1500 - 0s - loss: 1779.4283 - val_loss: 1464.4639\n",
      "Epoch 4/1000\n",
      "1500/1500 - 0s - loss: 1160.4030 - val_loss: 770.8236\n",
      "Epoch 5/1000\n",
      "1500/1500 - 0s - loss: 557.6113 - val_loss: 333.0887\n",
      "Epoch 6/1000\n",
      "1500/1500 - 0s - loss: 297.2082 - val_loss: 251.5650\n",
      "Epoch 7/1000\n",
      "1500/1500 - 0s - loss: 253.5124 - val_loss: 232.5251\n",
      "Epoch 8/1000\n",
      "1500/1500 - 0s - loss: 232.4357 - val_loss: 212.9814\n",
      "Epoch 9/1000\n",
      "1500/1500 - 0s - loss: 210.5237 - val_loss: 191.2304\n",
      "Epoch 10/1000\n",
      "1500/1500 - 0s - loss: 184.4354 - val_loss: 167.3552\n",
      "Epoch 11/1000\n",
      "1500/1500 - 0s - loss: 161.0115 - val_loss: 146.0858\n",
      "Epoch 12/1000\n",
      "1500/1500 - 0s - loss: 139.5136 - val_loss: 126.9750\n",
      "Epoch 13/1000\n",
      "1500/1500 - 0s - loss: 120.7122 - val_loss: 110.3499\n",
      "Epoch 14/1000\n",
      "1500/1500 - 0s - loss: 104.1963 - val_loss: 95.4146\n",
      "Epoch 15/1000\n",
      "1500/1500 - 0s - loss: 89.7413 - val_loss: 81.9018\n",
      "Epoch 16/1000\n",
      "1500/1500 - 0s - loss: 76.9021 - val_loss: 69.9258\n",
      "Epoch 17/1000\n",
      "1500/1500 - 0s - loss: 65.7267 - val_loss: 59.4418\n",
      "Epoch 18/1000\n",
      "1500/1500 - 0s - loss: 56.0003 - val_loss: 51.0835\n",
      "Epoch 19/1000\n",
      "1500/1500 - 0s - loss: 48.0211 - val_loss: 43.8816\n",
      "Epoch 20/1000\n",
      "1500/1500 - 0s - loss: 40.7547 - val_loss: 38.6268\n",
      "Epoch 21/1000\n",
      "1500/1500 - 0s - loss: 35.0073 - val_loss: 32.4641\n",
      "Epoch 22/1000\n",
      "1500/1500 - 0s - loss: 30.0188 - val_loss: 27.9929\n",
      "Epoch 23/1000\n",
      "1500/1500 - 0s - loss: 26.1190 - val_loss: 24.5727\n",
      "Epoch 24/1000\n",
      "1500/1500 - 0s - loss: 23.1591 - val_loss: 21.6824\n",
      "Epoch 25/1000\n",
      "1500/1500 - 0s - loss: 20.5581 - val_loss: 19.2301\n",
      "Epoch 26/1000\n",
      "1500/1500 - 0s - loss: 18.6193 - val_loss: 17.3397\n",
      "Epoch 27/1000\n",
      "1500/1500 - 0s - loss: 16.9722 - val_loss: 15.9031\n",
      "Epoch 28/1000\n",
      "1500/1500 - 0s - loss: 15.7135 - val_loss: 14.6879\n",
      "Epoch 29/1000\n",
      "1500/1500 - 0s - loss: 14.6987 - val_loss: 14.2574\n",
      "Epoch 30/1000\n",
      "1500/1500 - 0s - loss: 14.0477 - val_loss: 13.2314\n",
      "Epoch 31/1000\n",
      "1500/1500 - 0s - loss: 13.2726 - val_loss: 12.4351\n",
      "Epoch 32/1000\n",
      "1500/1500 - 0s - loss: 12.7028 - val_loss: 11.8237\n",
      "Epoch 33/1000\n",
      "1500/1500 - 0s - loss: 12.1314 - val_loss: 11.4088\n",
      "Epoch 34/1000\n",
      "1500/1500 - 0s - loss: 11.7615 - val_loss: 10.9543\n",
      "Epoch 35/1000\n",
      "1500/1500 - 0s - loss: 11.3410 - val_loss: 10.7429\n",
      "Epoch 36/1000\n",
      "1500/1500 - 0s - loss: 11.0096 - val_loss: 10.5111\n",
      "Epoch 37/1000\n",
      "1500/1500 - 0s - loss: 10.6762 - val_loss: 10.0761\n",
      "Epoch 38/1000\n",
      "1500/1500 - 0s - loss: 10.3610 - val_loss: 9.7171\n",
      "Epoch 39/1000\n",
      "1500/1500 - 0s - loss: 10.0715 - val_loss: 9.5244\n",
      "Epoch 40/1000\n",
      "1500/1500 - 0s - loss: 9.8211 - val_loss: 9.5145\n",
      "Epoch 41/1000\n",
      "1500/1500 - 0s - loss: 9.5591 - val_loss: 9.0442\n",
      "Epoch 42/1000\n",
      "1500/1500 - 0s - loss: 9.3704 - val_loss: 8.8641\n",
      "Epoch 43/1000\n",
      "1500/1500 - 0s - loss: 9.2390 - val_loss: 8.8620\n",
      "Epoch 44/1000\n",
      "1500/1500 - 0s - loss: 8.8813 - val_loss: 8.4951\n",
      "Epoch 45/1000\n",
      "1500/1500 - 0s - loss: 8.7049 - val_loss: 8.2115\n",
      "Epoch 46/1000\n",
      "1500/1500 - 0s - loss: 8.4303 - val_loss: 8.0836\n",
      "Epoch 47/1000\n",
      "1500/1500 - 0s - loss: 8.3923 - val_loss: 7.8920\n",
      "Epoch 48/1000\n",
      "1500/1500 - 0s - loss: 7.9641 - val_loss: 7.6376\n",
      "Epoch 49/1000\n",
      "1500/1500 - 0s - loss: 7.7873 - val_loss: 7.5760\n",
      "Epoch 50/1000\n",
      "1500/1500 - 0s - loss: 7.6778 - val_loss: 7.3507\n",
      "Epoch 51/1000\n",
      "1500/1500 - 0s - loss: 7.5011 - val_loss: 7.3711\n",
      "Epoch 52/1000\n",
      "1500/1500 - 0s - loss: 7.2398 - val_loss: 7.0122\n",
      "Epoch 53/1000\n",
      "1500/1500 - 0s - loss: 7.0063 - val_loss: 6.8131\n",
      "Epoch 54/1000\n",
      "1500/1500 - 0s - loss: 6.7869 - val_loss: 6.6209\n",
      "Epoch 55/1000\n",
      "1500/1500 - 0s - loss: 6.5981 - val_loss: 6.5348\n",
      "Epoch 56/1000\n",
      "1500/1500 - 0s - loss: 6.4225 - val_loss: 6.4386\n",
      "Epoch 57/1000\n",
      "1500/1500 - 0s - loss: 6.3005 - val_loss: 6.2539\n",
      "Epoch 58/1000\n",
      "1500/1500 - 0s - loss: 6.1037 - val_loss: 6.1690\n",
      "Epoch 59/1000\n",
      "1500/1500 - 0s - loss: 5.9153 - val_loss: 5.8424\n",
      "Epoch 60/1000\n",
      "1500/1500 - 0s - loss: 5.7797 - val_loss: 5.6612\n",
      "Epoch 61/1000\n",
      "1500/1500 - 0s - loss: 5.5751 - val_loss: 5.8043\n",
      "Epoch 62/1000\n",
      "1500/1500 - 0s - loss: 5.4260 - val_loss: 5.3247\n",
      "Epoch 63/1000\n",
      "1500/1500 - 0s - loss: 5.2087 - val_loss: 5.2779\n",
      "Epoch 64/1000\n",
      "1500/1500 - 0s - loss: 5.0388 - val_loss: 5.0489\n",
      "Epoch 65/1000\n",
      "1500/1500 - 0s - loss: 4.9185 - val_loss: 5.0165\n",
      "Epoch 66/1000\n",
      "1500/1500 - 0s - loss: 4.7531 - val_loss: 4.6949\n",
      "Epoch 67/1000\n",
      "1500/1500 - 0s - loss: 4.5697 - val_loss: 4.5409\n",
      "Epoch 68/1000\n",
      "1500/1500 - 0s - loss: 4.4637 - val_loss: 4.4105\n",
      "Epoch 69/1000\n",
      "1500/1500 - 0s - loss: 4.2293 - val_loss: 4.3080\n",
      "Epoch 70/1000\n",
      "1500/1500 - 0s - loss: 4.1468 - val_loss: 4.1219\n",
      "Epoch 71/1000\n",
      "1500/1500 - 0s - loss: 3.9848 - val_loss: 4.0436\n",
      "Epoch 72/1000\n",
      "1500/1500 - 0s - loss: 3.8522 - val_loss: 3.8498\n",
      "Epoch 73/1000\n",
      "1500/1500 - 0s - loss: 3.6409 - val_loss: 3.6771\n",
      "Epoch 74/1000\n",
      "1500/1500 - 0s - loss: 3.5071 - val_loss: 3.5286\n",
      "Epoch 75/1000\n",
      "1500/1500 - 0s - loss: 3.4253 - val_loss: 3.4076\n",
      "Epoch 76/1000\n",
      "1500/1500 - 0s - loss: 3.2659 - val_loss: 3.2696\n",
      "Epoch 77/1000\n",
      "1500/1500 - 0s - loss: 3.1726 - val_loss: 3.1289\n",
      "Epoch 78/1000\n",
      "1500/1500 - 0s - loss: 3.0174 - val_loss: 2.9854\n",
      "Epoch 79/1000\n",
      "1500/1500 - 0s - loss: 2.8628 - val_loss: 2.8606\n",
      "Epoch 80/1000\n",
      "1500/1500 - 0s - loss: 2.7512 - val_loss: 2.7912\n",
      "Epoch 81/1000\n",
      "1500/1500 - 0s - loss: 2.6227 - val_loss: 2.6575\n",
      "Epoch 82/1000\n",
      "1500/1500 - 0s - loss: 2.5138 - val_loss: 2.5389\n",
      "Epoch 83/1000\n",
      "1500/1500 - 0s - loss: 2.4137 - val_loss: 2.4533\n",
      "Epoch 84/1000\n",
      "1500/1500 - 0s - loss: 2.3652 - val_loss: 2.3224\n",
      "Epoch 85/1000\n",
      "1500/1500 - 0s - loss: 2.2040 - val_loss: 2.2443\n",
      "Epoch 86/1000\n",
      "1500/1500 - 0s - loss: 2.1474 - val_loss: 2.1560\n",
      "Epoch 87/1000\n",
      "1500/1500 - 0s - loss: 2.0347 - val_loss: 2.0318\n",
      "Epoch 88/1000\n",
      "1500/1500 - 0s - loss: 1.9613 - val_loss: 1.9756\n",
      "Epoch 89/1000\n",
      "1500/1500 - 0s - loss: 1.8652 - val_loss: 1.8982\n",
      "Epoch 90/1000\n",
      "1500/1500 - 0s - loss: 1.7881 - val_loss: 1.8295\n",
      "Epoch 91/1000\n",
      "1500/1500 - 0s - loss: 1.7006 - val_loss: 1.8339\n",
      "Epoch 92/1000\n",
      "1500/1500 - 0s - loss: 1.6078 - val_loss: 1.6736\n",
      "Epoch 93/1000\n",
      "1500/1500 - 0s - loss: 1.5160 - val_loss: 1.6444\n",
      "Epoch 94/1000\n",
      "1500/1500 - 0s - loss: 1.5084 - val_loss: 1.4778\n",
      "Epoch 95/1000\n",
      "1500/1500 - 0s - loss: 1.4443 - val_loss: 1.4748\n",
      "Epoch 96/1000\n",
      "1500/1500 - 0s - loss: 1.3578 - val_loss: 1.3880\n",
      "Epoch 97/1000\n",
      "1500/1500 - 0s - loss: 1.2947 - val_loss: 1.3140\n",
      "Epoch 98/1000\n",
      "1500/1500 - 0s - loss: 1.2397 - val_loss: 1.2991\n",
      "Epoch 99/1000\n",
      "1500/1500 - 0s - loss: 1.2190 - val_loss: 1.3201\n",
      "Epoch 100/1000\n",
      "1500/1500 - 0s - loss: 1.1717 - val_loss: 1.1730\n",
      "Epoch 101/1000\n",
      "1500/1500 - 0s - loss: 1.1190 - val_loss: 1.1347\n",
      "Epoch 102/1000\n",
      "1500/1500 - 0s - loss: 1.0626 - val_loss: 1.1269\n",
      "Epoch 103/1000\n",
      "1500/1500 - 0s - loss: 1.0907 - val_loss: 1.0490\n",
      "Epoch 104/1000\n",
      "1500/1500 - 0s - loss: 1.0432 - val_loss: 1.0968\n",
      "Epoch 105/1000\n",
      "1500/1500 - 0s - loss: 0.9860 - val_loss: 1.0114\n",
      "Epoch 106/1000\n",
      "1500/1500 - 0s - loss: 0.9477 - val_loss: 0.9862\n",
      "Epoch 107/1000\n",
      "1500/1500 - 0s - loss: 0.9248 - val_loss: 0.9196\n",
      "Epoch 108/1000\n",
      "1500/1500 - 0s - loss: 0.8848 - val_loss: 0.9174\n",
      "Epoch 109/1000\n",
      "1500/1500 - 0s - loss: 0.8671 - val_loss: 0.9109\n",
      "Epoch 110/1000\n",
      "1500/1500 - 0s - loss: 0.8515 - val_loss: 0.8442\n",
      "Epoch 111/1000\n",
      "1500/1500 - 0s - loss: 0.8408 - val_loss: 0.8592\n",
      "Epoch 112/1000\n",
      "1500/1500 - 0s - loss: 0.8473 - val_loss: 0.8250\n",
      "Epoch 113/1000\n",
      "1500/1500 - 0s - loss: 0.8368 - val_loss: 0.7978\n",
      "Epoch 114/1000\n",
      "1500/1500 - 0s - loss: 0.8386 - val_loss: 0.7697\n",
      "Epoch 115/1000\n",
      "1500/1500 - 0s - loss: 0.7806 - val_loss: 0.7578\n",
      "Epoch 116/1000\n",
      "1500/1500 - 0s - loss: 0.7703 - val_loss: 0.8131\n",
      "Epoch 117/1000\n",
      "1500/1500 - 0s - loss: 0.7653 - val_loss: 0.8671\n",
      "Epoch 118/1000\n",
      "1500/1500 - 0s - loss: 0.7451 - val_loss: 0.7457\n",
      "Epoch 119/1000\n",
      "1500/1500 - 0s - loss: 0.7517 - val_loss: 0.7944\n",
      "Epoch 120/1000\n",
      "1500/1500 - 0s - loss: 0.7323 - val_loss: 0.7515\n",
      "Epoch 121/1000\n",
      "1500/1500 - 0s - loss: 0.7215 - val_loss: 0.7042\n",
      "Epoch 122/1000\n",
      "1500/1500 - 0s - loss: 0.7089 - val_loss: 0.6907\n",
      "Epoch 123/1000\n",
      "1500/1500 - 0s - loss: 0.6975 - val_loss: 0.7228\n",
      "Epoch 124/1000\n",
      "1500/1500 - 0s - loss: 0.7359 - val_loss: 0.6617\n",
      "Epoch 125/1000\n",
      "1500/1500 - 0s - loss: 0.6780 - val_loss: 0.6911\n",
      "Epoch 126/1000\n",
      "1500/1500 - 0s - loss: 0.7149 - val_loss: 0.6542\n",
      "Epoch 127/1000\n",
      "1500/1500 - 0s - loss: 0.6701 - val_loss: 0.7608\n",
      "Epoch 128/1000\n",
      "1500/1500 - 0s - loss: 0.7324 - val_loss: 0.7222\n"
     ]
    },
    {
     "name": "stdout",
     "output_type": "stream",
     "text": [
      "Epoch 129/1000\n",
      "1500/1500 - 0s - loss: 0.6744 - val_loss: 0.6468\n",
      "Epoch 130/1000\n",
      "1500/1500 - 0s - loss: 0.6618 - val_loss: 0.6379\n",
      "Epoch 131/1000\n",
      "1500/1500 - 0s - loss: 0.6579 - val_loss: 0.6185\n",
      "Epoch 132/1000\n",
      "1500/1500 - 0s - loss: 0.6375 - val_loss: 0.6415\n",
      "Epoch 133/1000\n",
      "1500/1500 - 0s - loss: 0.6520 - val_loss: 0.6036\n",
      "Epoch 134/1000\n",
      "1500/1500 - 0s - loss: 0.6500 - val_loss: 0.6052\n",
      "Epoch 135/1000\n",
      "1500/1500 - 0s - loss: 0.6241 - val_loss: 0.5841\n",
      "Epoch 136/1000\n",
      "1500/1500 - 0s - loss: 0.6174 - val_loss: 0.6751\n",
      "Epoch 137/1000\n",
      "1500/1500 - 0s - loss: 0.6553 - val_loss: 0.6013\n",
      "Epoch 138/1000\n",
      "1500/1500 - 0s - loss: 0.6418 - val_loss: 0.6180\n",
      "Epoch 139/1000\n",
      "1500/1500 - 0s - loss: 0.6711 - val_loss: 0.6199\n",
      "Epoch 140/1000\n",
      "1500/1500 - 0s - loss: 0.6184 - val_loss: 0.5703\n",
      "Epoch 141/1000\n",
      "1500/1500 - 0s - loss: 0.6448 - val_loss: 0.5565\n",
      "Epoch 142/1000\n",
      "1500/1500 - 0s - loss: 0.6148 - val_loss: 0.5663\n",
      "Epoch 143/1000\n",
      "1500/1500 - 0s - loss: 0.5923 - val_loss: 0.5422\n",
      "Epoch 144/1000\n",
      "1500/1500 - 0s - loss: 0.5848 - val_loss: 0.5393\n",
      "Epoch 145/1000\n",
      "1500/1500 - 0s - loss: 0.5835 - val_loss: 0.5636\n",
      "Epoch 146/1000\n",
      "1500/1500 - 0s - loss: 0.5834 - val_loss: 0.5229\n",
      "Epoch 147/1000\n",
      "1500/1500 - 0s - loss: 0.5830 - val_loss: 0.5621\n",
      "Epoch 148/1000\n",
      "1500/1500 - 0s - loss: 0.5691 - val_loss: 0.5375\n",
      "Epoch 149/1000\n",
      "1500/1500 - 0s - loss: 0.5678 - val_loss: 0.5240\n",
      "Epoch 150/1000\n",
      "1500/1500 - 0s - loss: 0.5807 - val_loss: 0.5666\n",
      "Epoch 151/1000\n",
      "1500/1500 - 0s - loss: 0.5514 - val_loss: 0.5106\n",
      "Epoch 152/1000\n",
      "1500/1500 - 0s - loss: 0.5529 - val_loss: 0.5365\n",
      "Epoch 153/1000\n",
      "1500/1500 - 0s - loss: 0.5607 - val_loss: 0.4953\n",
      "Epoch 154/1000\n",
      "1500/1500 - 0s - loss: 0.5467 - val_loss: 0.4889\n",
      "Epoch 155/1000\n",
      "1500/1500 - 0s - loss: 0.5392 - val_loss: 0.4831\n",
      "Epoch 156/1000\n",
      "1500/1500 - 0s - loss: 0.5337 - val_loss: 0.4783\n",
      "Epoch 157/1000\n",
      "1500/1500 - 0s - loss: 0.5398 - val_loss: 0.4779\n",
      "Epoch 158/1000\n",
      "1500/1500 - 0s - loss: 0.5542 - val_loss: 0.4729\n",
      "Epoch 159/1000\n",
      "1500/1500 - 0s - loss: 0.5390 - val_loss: 0.4733\n",
      "Epoch 160/1000\n",
      "1500/1500 - 0s - loss: 0.5471 - val_loss: 0.5155\n",
      "Epoch 161/1000\n",
      "1500/1500 - 0s - loss: 0.5313 - val_loss: 0.4628\n",
      "Epoch 162/1000\n",
      "1500/1500 - 0s - loss: 0.5579 - val_loss: 0.4958\n",
      "Epoch 163/1000\n",
      "1500/1500 - 0s - loss: 0.5224 - val_loss: 0.4493\n",
      "Epoch 164/1000\n",
      "1500/1500 - 0s - loss: 0.5010 - val_loss: 0.4538\n",
      "Epoch 165/1000\n",
      "1500/1500 - 0s - loss: 0.5107 - val_loss: 0.4400\n",
      "Epoch 166/1000\n",
      "1500/1500 - 0s - loss: 0.5279 - val_loss: 0.4679\n",
      "Epoch 167/1000\n",
      "1500/1500 - 0s - loss: 0.5023 - val_loss: 0.4726\n",
      "Epoch 168/1000\n",
      "1500/1500 - 0s - loss: 0.4889 - val_loss: 0.5081\n",
      "Epoch 169/1000\n",
      "1500/1500 - 0s - loss: 0.4980 - val_loss: 0.4591\n",
      "Epoch 170/1000\n",
      "Restoring model weights from the end of the best epoch.\n",
      "1500/1500 - 0s - loss: 0.5052 - val_loss: 0.5307\n",
      "Epoch 00170: early stopping\n"
     ]
    },
    {
     "data": {
      "text/plain": [
       "<tensorflow.python.keras.callbacks.History at 0x1b1de70e948>"
      ]
     },
     "execution_count": 14,
     "metadata": {},
     "output_type": "execute_result"
    }
   ],
   "source": [
    "from tensorflow.keras.models import Sequential\n",
    "from tensorflow.keras.layers import Dense,Activation\n",
    "from tensorflow.keras.callbacks import EarlyStopping\n",
    "model=Sequential()\n",
    "model.add(Dense(25,input_dim=x.shape[1],activation='relu'))\n",
    "model.add(Dense(10,activation='relu'))\n",
    "model.add(Dense(1))\n",
    "model.compile(loss='mean_squared_error',optimizer='adam')\n",
    "monitor=EarlyStopping(monitor='val_loss',min_delta=1e-3,patience=5,verbose=1,mode='auto',restore_best_weights=True)\n",
    "model.fit(x_train,y_train,validation_data=(x_test,y_test),callbacks=[monitor],verbose=2,epochs=1000)"
   ]
  },
  {
   "cell_type": "code",
   "execution_count": 16,
   "metadata": {},
   "outputs": [
    {
     "name": "stdout",
     "output_type": "stream",
     "text": [
      "mean squared error is :0.44004575571246096,root_mean_squared_error:0.6633594468404448\n"
     ]
    }
   ],
   "source": [
    "import numpy as np\n",
    "from sklearn import metrics\n",
    "pred=model.predict(x_test)\n",
    "score=metrics.mean_squared_error(pred,y_test)\n",
    "rmse=np.sqrt(score)\n",
    "print(f\"mean squared error is :{score},root_mean_squared_error:{rmse}\")"
   ]
  },
  {
   "cell_type": "markdown",
   "metadata": {},
   "source": [
    "# Lift Chart"
   ]
  },
  {
   "cell_type": "code",
   "execution_count": 17,
   "metadata": {},
   "outputs": [],
   "source": [
    "%matplotlib inline\n",
    "import matplotlib.pyplot as plt\n",
    "def lift_chart(pred, y, sort=True):\n",
    "    t = pd.DataFrame({'pred': pred, 'y': y.flatten()})\n",
    "    if sort:\n",
    "        t.sort_values(by=['y'], inplace=True)\n",
    "    plt.plot(t['y'].tolist(), label='expected')\n",
    "    plt.plot(t['pred'].tolist(), label='prediction')\n",
    "    plt.ylabel('output')\n",
    "    plt.legend()\n",
    "    plt.show()"
   ]
  },
  {
   "cell_type": "code",
   "execution_count": 18,
   "metadata": {},
   "outputs": [
    {
     "data": {
      "image/png": "[encoded data removed]",
      "text/plain": [
       "<Figure size 432x288 with 1 Axes>"
      ]
     },
     "metadata": {
      "needs_background": "light"
     },
     "output_type": "display_data"
    }
   ],
   "source": [
    "lift_chart(pred.flatten(),y_test)"
   ]
  },
  {
   "cell_type": "code",
   "execution_count": null,
   "metadata": {},
   "outputs": [],
   "source": []
  }
 ],
 "metadata": {
  "kernelspec": {
   "display_name": "Python 3",
   "language": "python",
   "name": "python3"
  },
  "language_info": {
   "codemirror_mode": {
    "name": "ipython",
    "version": 3
   },
   "file_extension": ".py",
   "mimetype": "text/x-python",
   "name": "python",
   "nbconvert_exporter": "python",
   "pygments_lexer": "ipython3",
   "version": "3.7.4"
  }
 },
 "nbformat": 4,
 "nbformat_minor": 2
}
