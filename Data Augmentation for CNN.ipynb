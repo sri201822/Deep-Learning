{
 "cells": [
  {
   "cell_type": "markdown",
   "metadata": {},
   "source": [
    "# Shear,Rotation,shift,Zoom "
   ]
  },
  {
   "cell_type": "raw",
   "metadata": {},
   "source": [
    "## Shear means rotating around the edges and converts square into a rhombus\n",
    "## Rotation means Rotating the image at an angle\n",
    "## Width shift means shifting full image left or right\n",
    "## Height shift means shifting full image up or down\n",
    "## Zoom means zooming at any particular section of our image"
   ]
  },
  {
   "cell_type": "code",
   "execution_count": 3,
   "metadata": {},
   "outputs": [],
   "source": [
    "train_dir=r\"C:\\Users\\sidre\\Desktop\\cats_and_dogs_small\\train\"\n",
    "valid_dir=r\"C:\\Users\\sidre\\Desktop\\cats_and_dogs_small\\validation\"\n",
    "test_dir=r\"C:\\Users\\sidre\\Desktop\\cats_and_dogs_small\\test\"\n",
    "\n",
    "from tensorflow.keras.preprocessing.image import ImageDataGenerator\n",
    "\n",
    "### We have different images with different specifics: portrait,landscape,different dimensions\n",
    "## ImageDateGenerator will reshape all of them and bring them to same dimension "
   ]
  },
  {
   "cell_type": "code",
   "execution_count": 4,
   "metadata": {
    "scrolled": false
   },
   "outputs": [
    {
     "name": "stdout",
     "output_type": "stream",
     "text": [
      "Found 2000 images belonging to 2 classes.\n",
      "Found 1000 images belonging to 2 classes.\n"
     ]
    }
   ],
   "source": [
    "### Generating batches of tensor image data\n",
    "train_datagen=ImageDataGenerator(rescale=1/255.,rotation_range=40,width_shift_range=0.2,height_shift_range=0.2,shear_range=0.2,\n",
    "                                zoom_range=0.2,horizontal_flip=True)\n",
    "test_datagen=ImageDataGenerator(rescale=1/255.)\n",
    "train_generator=train_datagen.flow_from_directory(train_dir,target_size=(150,150),batch_size=32,class_mode='binary')\n",
    "validation_generator=test_datagen.flow_from_directory(valid_dir,target_size=(150,150),batch_size=32,class_mode='binary')"
   ]
  },
  {
   "cell_type": "code",
   "execution_count": 7,
   "metadata": {},
   "outputs": [],
   "source": [
    "from tensorflow.keras import layers\n",
    "from tensorflow.keras import models\n",
    "model=models.Sequential()\n",
    "model.add(layers.Conv2D(32,(3,3),activation='relu',input_shape=(150,150,3))) ## 32 filters with 3x3 window with 3 channels\n",
    "model.add(layers.MaxPooling2D((2,2))) ## 2x2 max pooling layer\n",
    "\n",
    "model.add(layers.Conv2D(64,(3,3),activation='relu'))\n",
    "model.add(layers.MaxPooling2D((2,2)))\n",
    "\n",
    "model.add(layers.Conv2D(128,(3,3),activation='relu'))\n",
    "model.add(layers.MaxPooling2D((2,2)))\n",
    "\n",
    "model.add(layers.Conv2D(128,(3,3),activation='relu'))\n",
    "model.add(layers.MaxPooling2D((2,2)))\n",
    "\n",
    "model.add(layers.Flatten())\n",
    "model.add(layers.Dropout(0.5)) # To avoid over-fitting \n",
    "model.add(layers.Dense(512,activation='relu'))\n",
    "model.add(layers.Dense(1,activation='sigmoid'))\n",
    "\n",
    "from tensorflow.keras import optimizers\n",
    "model.compile(loss='binary_crossentropy',optimizer=optimizers.RMSprop(lr=1e-4),metrics=[\"accuracy\"])\n"
   ]
  },
  {
   "cell_type": "code",
   "execution_count": 8,
   "metadata": {},
   "outputs": [
    {
     "name": "stdout",
     "output_type": "stream",
     "text": [
      "Model: \"sequential_1\"\n",
      "_________________________________________________________________\n",
      "Layer (type)                 Output Shape              Param #   \n",
      "=================================================================\n",
      "conv2d_4 (Conv2D)            (None, 148, 148, 32)      896       \n",
      "_________________________________________________________________\n",
      "max_pooling2d_4 (MaxPooling2 (None, 74, 74, 32)        0         \n",
      "_________________________________________________________________\n",
      "conv2d_5 (Conv2D)            (None, 72, 72, 64)        18496     \n",
      "_________________________________________________________________\n",
      "max_pooling2d_5 (MaxPooling2 (None, 36, 36, 64)        0         \n",
      "_________________________________________________________________\n",
      "conv2d_6 (Conv2D)            (None, 34, 34, 128)       73856     \n",
      "_________________________________________________________________\n",
      "max_pooling2d_6 (MaxPooling2 (None, 17, 17, 128)       0         \n",
      "_________________________________________________________________\n",
      "conv2d_7 (Conv2D)            (None, 15, 15, 128)       147584    \n",
      "_________________________________________________________________\n",
      "max_pooling2d_7 (MaxPooling2 (None, 7, 7, 128)         0         \n",
      "_________________________________________________________________\n",
      "flatten_1 (Flatten)          (None, 6272)              0         \n",
      "_________________________________________________________________\n",
      "dropout (Dropout)            (None, 6272)              0         \n",
      "_________________________________________________________________\n",
      "dense_2 (Dense)              (None, 512)               3211776   \n",
      "_________________________________________________________________\n",
      "dense_3 (Dense)              (None, 1)                 513       \n",
      "=================================================================\n",
      "Total params: 3,453,121\n",
      "Trainable params: 3,453,121\n",
      "Non-trainable params: 0\n",
      "_________________________________________________________________\n"
     ]
    }
   ],
   "source": [
    "model.summary()"
   ]
  },
  {
   "cell_type": "code",
   "execution_count": 11,
   "metadata": {},
   "outputs": [
    {
     "name": "stdout",
     "output_type": "stream",
     "text": [
      "Epoch 1/20\n",
      "100/100 [==============================] - 178s 2s/step - loss: 0.6816 - accuracy: 0.5707 - val_loss: 0.6607 - val_accuracy: 0.5952\n",
      "Epoch 2/20\n",
      "100/100 [==============================] - 185s 2s/step - loss: 0.6605 - accuracy: 0.6099 - val_loss: 0.6424 - val_accuracy: 0.6180\n",
      "Epoch 3/20\n",
      "100/100 [==============================] - 154s 2s/step - loss: 0.6435 - accuracy: 0.6269 - val_loss: 0.6295 - val_accuracy: 0.6345\n",
      "Epoch 4/20\n",
      "100/100 [==============================] - 159s 2s/step - loss: 0.6323 - accuracy: 0.6443 - val_loss: 0.7076 - val_accuracy: 0.5730\n",
      "Epoch 5/20\n",
      "100/100 [==============================] - 160s 2s/step - loss: 0.6221 - accuracy: 0.6495 - val_loss: 0.5924 - val_accuracy: 0.6694\n",
      "Epoch 6/20\n",
      "100/100 [==============================] - 162s 2s/step - loss: 0.6069 - accuracy: 0.6645 - val_loss: 0.5820 - val_accuracy: 0.6840\n",
      "Epoch 7/20\n",
      "100/100 [==============================] - 165s 2s/step - loss: 0.5894 - accuracy: 0.6784 - val_loss: 0.6454 - val_accuracy: 0.6390\n",
      "Epoch 8/20\n",
      "100/100 [==============================] - 161s 2s/step - loss: 0.5827 - accuracy: 0.6888 - val_loss: 0.5972 - val_accuracy: 0.6751\n",
      "Epoch 9/20\n",
      "100/100 [==============================] - 159s 2s/step - loss: 0.5766 - accuracy: 0.6935 - val_loss: 0.5500 - val_accuracy: 0.7081\n",
      "Epoch 10/20\n",
      "100/100 [==============================] - 159s 2s/step - loss: 0.5760 - accuracy: 0.6976 - val_loss: 0.5341 - val_accuracy: 0.7253\n",
      "Epoch 11/20\n",
      "100/100 [==============================] - 147s 1s/step - loss: 0.5543 - accuracy: 0.7145 - val_loss: 0.5427 - val_accuracy: 0.7278\n",
      "Epoch 12/20\n",
      "100/100 [==============================] - 154s 2s/step - loss: 0.5538 - accuracy: 0.7105 - val_loss: 0.5646 - val_accuracy: 0.6910\n",
      "Epoch 13/20\n",
      "100/100 [==============================] - 159s 2s/step - loss: 0.5514 - accuracy: 0.7104 - val_loss: 0.5380 - val_accuracy: 0.7240\n",
      "Epoch 14/20\n",
      "100/100 [==============================] - 152s 2s/step - loss: 0.5608 - accuracy: 0.7075 - val_loss: 0.5280 - val_accuracy: 0.7265\n",
      "Epoch 15/20\n",
      "100/100 [==============================] - 190s 2s/step - loss: 0.5334 - accuracy: 0.7291 - val_loss: 0.5226 - val_accuracy: 0.7265\n",
      "Epoch 16/20\n",
      "100/100 [==============================] - 197s 2s/step - loss: 0.5396 - accuracy: 0.7240 - val_loss: 0.5443 - val_accuracy: 0.7208\n",
      "Epoch 17/20\n",
      "100/100 [==============================] - 172s 2s/step - loss: 0.5298 - accuracy: 0.7290 - val_loss: 0.5129 - val_accuracy: 0.7367\n",
      "Epoch 18/20\n",
      "100/100 [==============================] - 187s 2s/step - loss: 0.5347 - accuracy: 0.7271 - val_loss: 0.5552 - val_accuracy: 0.7126\n",
      "Epoch 19/20\n",
      "100/100 [==============================] - 167s 2s/step - loss: 0.5256 - accuracy: 0.7402 - val_loss: 0.5036 - val_accuracy: 0.7424\n",
      "Epoch 20/20\n",
      "100/100 [==============================] - 163s 2s/step - loss: 0.5172 - accuracy: 0.7399 - val_loss: 0.5192 - val_accuracy: 0.7291\n"
     ]
    }
   ],
   "source": [
    "history=model.fit_generator(train_generator,steps_per_epoch=100,epochs=20,\n",
    "                            validation_data=validation_generator,validation_steps=50) \n",
    "# we can increase the epochs till 100 in this case"
   ]
  },
  {
   "cell_type": "code",
   "execution_count": 12,
   "metadata": {},
   "outputs": [
    {
     "data": {
      "image/png": "[encoded data removed]",
      "text/plain": [
       "<Figure size 576x360 with 1 Axes>"
      ]
     },
     "metadata": {
      "needs_background": "light"
     },
     "output_type": "display_data"
    }
   ],
   "source": [
    "import pandas as pd\n",
    "import matplotlib.pyplot as plt\n",
    "pd.DataFrame(history.history).plot(figsize=(8,5))\n",
    "plt.grid(True)\n",
    "plt.gca().set_ylim(0,1)\n",
    "plt.show()"
   ]
  },
  {
   "cell_type": "code",
   "execution_count": 13,
   "metadata": {},
   "outputs": [],
   "source": [
    "model.save(\"cat_dog_classifier_data_augmented.h5\")"
   ]
  },
  {
   "cell_type": "markdown",
   "metadata": {},
   "source": [
    "## model evaluation "
   ]
  },
  {
   "cell_type": "code",
   "execution_count": 15,
   "metadata": {},
   "outputs": [
    {
     "name": "stdout",
     "output_type": "stream",
     "text": [
      "Found 1000 images belonging to 2 classes.\n"
     ]
    }
   ],
   "source": [
    "test_generator=test_datagen.flow_from_directory(test_dir,target_size=(150,150),batch_size=32,class_mode='binary')"
   ]
  },
  {
   "cell_type": "code",
   "execution_count": 26,
   "metadata": {},
   "outputs": [
    {
     "data": {
      "text/plain": [
       "[0.5449160486459732, 0.7208122]"
      ]
     },
     "execution_count": 26,
     "metadata": {},
     "output_type": "execute_result"
    }
   ],
   "source": [
    "model.evaluate_generator(test_generator,steps=50)"
   ]
  },
  {
   "cell_type": "code",
   "execution_count": 23,
   "metadata": {},
   "outputs": [],
   "source": [
    "from tensorflow import keras\n",
    "del model\n",
    "keras.backend.clear_session()"
   ]
  },
  {
   "cell_type": "code",
   "execution_count": 25,
   "metadata": {},
   "outputs": [
    {
     "name": "stdout",
     "output_type": "stream",
     "text": [
      "Model: \"sequential_1\"\n",
      "_________________________________________________________________\n",
      "Layer (type)                 Output Shape              Param #   \n",
      "=================================================================\n",
      "conv2d_4 (Conv2D)            (None, 148, 148, 32)      896       \n",
      "_________________________________________________________________\n",
      "max_pooling2d_4 (MaxPooling2 (None, 74, 74, 32)        0         \n",
      "_________________________________________________________________\n",
      "conv2d_5 (Conv2D)            (None, 72, 72, 64)        18496     \n",
      "_________________________________________________________________\n",
      "max_pooling2d_5 (MaxPooling2 (None, 36, 36, 64)        0         \n",
      "_________________________________________________________________\n",
      "conv2d_6 (Conv2D)            (None, 34, 34, 128)       73856     \n",
      "_________________________________________________________________\n",
      "max_pooling2d_6 (MaxPooling2 (None, 17, 17, 128)       0         \n",
      "_________________________________________________________________\n",
      "conv2d_7 (Conv2D)            (None, 15, 15, 128)       147584    \n",
      "_________________________________________________________________\n",
      "max_pooling2d_7 (MaxPooling2 (None, 7, 7, 128)         0         \n",
      "_________________________________________________________________\n",
      "flatten_1 (Flatten)          (None, 6272)              0         \n",
      "_________________________________________________________________\n",
      "dropout (Dropout)            (None, 6272)              0         \n",
      "_________________________________________________________________\n",
      "dense_2 (Dense)              (None, 512)               3211776   \n",
      "_________________________________________________________________\n",
      "dense_3 (Dense)              (None, 1)                 513       \n",
      "=================================================================\n",
      "Total params: 3,453,121\n",
      "Trainable params: 3,453,121\n",
      "Non-trainable params: 0\n",
      "_________________________________________________________________\n"
     ]
    }
   ],
   "source": [
    "from tensorflow import keras\n",
    "\n",
    "model=keras.models.load_model(\"cat_dog_classifier_data_augmented.h5\")\n",
    "\n",
    "model.summary()"
   ]
  },
  {
   "cell_type": "code",
   "execution_count": null,
   "metadata": {},
   "outputs": [],
   "source": []
  }
 ],
 "metadata": {
  "kernelspec": {
   "display_name": "Python 3",
   "language": "python",
   "name": "python3"
  },
  "language_info": {
   "codemirror_mode": {
    "name": "ipython",
    "version": 3
   },
   "file_extension": ".py",
   "mimetype": "text/x-python",
   "name": "python",
   "nbconvert_exporter": "python",
   "pygments_lexer": "ipython3",
   "version": "3.7.7"
  }
 },
 "nbformat": 4,
 "nbformat_minor": 4
}
