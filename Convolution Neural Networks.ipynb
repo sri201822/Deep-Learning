{
 "cells": [
  {
   "cell_type": "code",
   "execution_count": 2,
   "metadata": {},
   "outputs": [
    {
     "data": {
      "text/plain": [
       "array([9, 0, 0, ..., 3, 0, 5], dtype=uint8)"
      ]
     },
     "execution_count": 2,
     "metadata": {},
     "output_type": "execute_result"
    },
    {
     "data": {
      "image/png": "[encoded data removed]",
      "text/plain": [
       "<Figure size 432x288 with 1 Axes>"
      ]
     },
     "metadata": {
      "needs_background": "light"
     },
     "output_type": "display_data"
    }
   ],
   "source": [
    "import keras\n",
    "import numpy as np\n",
    "import pandas as pd\n",
    "fashion_mnist=keras.datasets.fashion_mnist\n",
    "(x_train,y_train),(x_test,y_test)=fashion_mnist.load_data()\n",
    "\n",
    "import matplotlib.pyplot as plt\n",
    "\n",
    "plt.imshow(x_train[1])\n",
    "\n",
    "plt.imshow(x_train[1])\n",
    "\n",
    "y_train"
   ]
  },
  {
   "cell_type": "markdown",
   "metadata": {},
   "source": [
    "## For CNN, we need to do data reshaping"
   ]
  },
  {
   "cell_type": "markdown",
   "metadata": {},
   "source": [
    "## data Reshaping as per channels (Here channels=1)"
   ]
  },
  {
   "cell_type": "code",
   "execution_count": 5,
   "metadata": {},
   "outputs": [
    {
     "data": {
      "text/plain": [
       "((60000, 28, 28), (10000, 28, 28))"
      ]
     },
     "execution_count": 5,
     "metadata": {},
     "output_type": "execute_result"
    }
   ],
   "source": [
    "x_train.shape,x_test.shape"
   ]
  },
  {
   "cell_type": "code",
   "execution_count": 6,
   "metadata": {},
   "outputs": [],
   "source": [
    "x_train=x_train.reshape((60000,28,28,1))\n",
    "x_test=x_test.reshape((10000,28,28,1)) ### Height,weight,channels"
   ]
  },
  {
   "cell_type": "code",
   "execution_count": 9,
   "metadata": {},
   "outputs": [
    {
     "data": {
      "text/plain": [
       "((60000, 28, 28, 1), (10000, 28, 28, 1))"
      ]
     },
     "execution_count": 9,
     "metadata": {},
     "output_type": "execute_result"
    }
   ],
   "source": [
    "x_train.shape,x_test.shape"
   ]
  },
  {
   "cell_type": "markdown",
   "metadata": {},
   "source": [
    "### Normalizing data"
   ]
  },
  {
   "cell_type": "code",
   "execution_count": 11,
   "metadata": {},
   "outputs": [],
   "source": [
    "x_train=x_train/255.0\n",
    "x_test=x_test/255.0"
   ]
  },
  {
   "cell_type": "markdown",
   "metadata": {},
   "source": [
    "### Train and validation data split"
   ]
  },
  {
   "cell_type": "code",
   "execution_count": 13,
   "metadata": {},
   "outputs": [],
   "source": [
    "x_train,x_valid=x_train[:55000],x_train[55000:]\n",
    "y_train,y_valid=y_train[:55000],y_train[55000:]"
   ]
  },
  {
   "cell_type": "markdown",
   "metadata": {},
   "source": [
    "# Model building"
   ]
  },
  {
   "cell_type": "code",
   "execution_count": 15,
   "metadata": {},
   "outputs": [],
   "source": [
    "import tensorflow as tf\n",
    "np.random.seed(42)\n",
    "tf.random.set_seed(42)"
   ]
  },
  {
   "cell_type": "code",
   "execution_count": 19,
   "metadata": {},
   "outputs": [],
   "source": [
    "model=keras.models.Sequential()\n",
    "model.add(keras.layers.Conv2D(filters=32,kernel_size=(3,3),strides=1,padding='valid',activation='relu',input_shape=(28,28,1))) ### Convolution layer\n",
    "model.add(keras.layers.MaxPooling2D((2,2))) ### Max pooling\n",
    "\n",
    "model.add(keras.layers.Flatten()) ### Converting higher dimension to 1D by flattening\n",
    "model.add(keras.layers.Dense(300,activation='relu')) ### Hidden layer 1\n",
    "model.add(keras.layers.Dense(100,activation='relu')) ### Hidden layer 2\n",
    "model.add(keras.layers.Dense(10,activation='softmax')) #### Output layer\n",
    "\n",
    "model.compile(loss='sparse_categorical_crossentropy',optimizer='sgd',metrics=[\"accuracy\"])"
   ]
  },
  {
   "cell_type": "code",
   "execution_count": 20,
   "metadata": {},
   "outputs": [
    {
     "name": "stdout",
     "output_type": "stream",
     "text": [
      "Model: \"sequential_3\"\n",
      "_________________________________________________________________\n",
      "Layer (type)                 Output Shape              Param #   \n",
      "=================================================================\n",
      "conv2d_3 (Conv2D)            (None, 26, 26, 32)        320       \n",
      "_________________________________________________________________\n",
      "max_pooling2d_3 (MaxPooling2 (None, 13, 13, 32)        0         \n",
      "_________________________________________________________________\n",
      "flatten_3 (Flatten)          (None, 5408)              0         \n",
      "_________________________________________________________________\n",
      "dense_7 (Dense)              (None, 300)               1622700   \n",
      "_________________________________________________________________\n",
      "dense_8 (Dense)              (None, 100)               30100     \n",
      "_________________________________________________________________\n",
      "dense_9 (Dense)              (None, 10)                1010      \n",
      "=================================================================\n",
      "Total params: 1,654,130\n",
      "Trainable params: 1,654,130\n",
      "Non-trainable params: 0\n",
      "_________________________________________________________________\n"
     ]
    }
   ],
   "source": [
    "model.summary()"
   ]
  },
  {
   "cell_type": "code",
   "execution_count": 21,
   "metadata": {},
   "outputs": [
    {
     "name": "stdout",
     "output_type": "stream",
     "text": [
      "Train on 55000 samples, validate on 5000 samples\n",
      "Epoch 1/10\n",
      "55000/55000 [==============================] - 34s 615us/step - loss: 0.8706 - accuracy: 0.7079 - val_loss: 0.7649 - val_accuracy: 0.7272\n",
      "Epoch 2/10\n",
      "55000/55000 [==============================] - 32s 578us/step - loss: 0.5335 - accuracy: 0.8074 - val_loss: 0.5136 - val_accuracy: 0.8174\n",
      "Epoch 3/10\n",
      "55000/55000 [==============================] - 33s 601us/step - loss: 0.4764 - accuracy: 0.8287 - val_loss: 0.5108 - val_accuracy: 0.8156\n",
      "Epoch 4/10\n",
      "55000/55000 [==============================] - 34s 615us/step - loss: 0.4407 - accuracy: 0.8435 - val_loss: 0.4333 - val_accuracy: 0.8366\n",
      "Epoch 5/10\n",
      "55000/55000 [==============================] - 34s 622us/step - loss: 0.4142 - accuracy: 0.8531 - val_loss: 0.5134 - val_accuracy: 0.8012\n",
      "Epoch 6/10\n",
      "55000/55000 [==============================] - 34s 612us/step - loss: 0.3936 - accuracy: 0.8578 - val_loss: 0.3964 - val_accuracy: 0.8590\n",
      "Epoch 7/10\n",
      "55000/55000 [==============================] - 32s 582us/step - loss: 0.3769 - accuracy: 0.8653 - val_loss: 0.3751 - val_accuracy: 0.8628\n",
      "Epoch 8/10\n",
      "55000/55000 [==============================] - 31s 557us/step - loss: 0.3616 - accuracy: 0.8700 - val_loss: 0.3853 - val_accuracy: 0.8574\n",
      "Epoch 9/10\n",
      "55000/55000 [==============================] - 30s 554us/step - loss: 0.3500 - accuracy: 0.8728 - val_loss: 0.3802 - val_accuracy: 0.8640\n",
      "Epoch 10/10\n",
      "55000/55000 [==============================] - 33s 596us/step - loss: 0.3369 - accuracy: 0.8783 - val_loss: 0.4231 - val_accuracy: 0.8438\n"
     ]
    }
   ],
   "source": [
    "model_history=model.fit(x_train,y_train,epochs=10,batch_size=64,validation_data=(x_valid,y_valid))"
   ]
  },
  {
   "cell_type": "code",
   "execution_count": 22,
   "metadata": {},
   "outputs": [
    {
     "data": {
      "image/png": "[encoded data removed]",
      "text/plain": [
       "<Figure size 576x360 with 1 Axes>"
      ]
     },
     "metadata": {
      "needs_background": "light"
     },
     "output_type": "display_data"
    }
   ],
   "source": [
    "import matplotlib.pyplot as plt\n",
    "pd.DataFrame(model_history.history).plot(figsize=(8,5))\n",
    "plt.grid(True)\n",
    "plt.gca().set_ylim(0,1)\n",
    "plt.show()"
   ]
  },
  {
   "cell_type": "code",
   "execution_count": 24,
   "metadata": {},
   "outputs": [
    {
     "name": "stdout",
     "output_type": "stream",
     "text": [
      "10000/10000 [==============================] - 1s 145us/step\n"
     ]
    },
    {
     "data": {
      "text/plain": [
       "[0.446626170873642, 0.83160001039505]"
      ]
     },
     "execution_count": 24,
     "metadata": {},
     "output_type": "execute_result"
    }
   ],
   "source": [
    "model.evaluate(x_test,y_test)"
   ]
  },
  {
   "cell_type": "code",
   "execution_count": 26,
   "metadata": {},
   "outputs": [
    {
     "data": {
      "text/plain": [
       "array([9, 2, 1], dtype=int64)"
      ]
     },
     "execution_count": 26,
     "metadata": {},
     "output_type": "execute_result"
    }
   ],
   "source": [
    "x_new=x_test[:3]\n",
    "model.predict_classes(x_new)"
   ]
  },
  {
   "cell_type": "markdown",
   "metadata": {},
   "source": [
    "### With callbacks,checkpoints and early stopping"
   ]
  },
  {
   "cell_type": "code",
   "execution_count": null,
   "metadata": {},
   "outputs": [],
   "source": [
    "del model"
   ]
  },
  {
   "cell_type": "code",
   "execution_count": 29,
   "metadata": {},
   "outputs": [],
   "source": [
    "keras.backend.clear_session()"
   ]
  },
  {
   "cell_type": "code",
   "execution_count": 30,
   "metadata": {},
   "outputs": [
    {
     "name": "stdout",
     "output_type": "stream",
     "text": [
      "Train on 55000 samples, validate on 5000 samples\n",
      "Epoch 1/200\n",
      "55000/55000 [==============================] - 48s 875us/step - loss: 0.7121 - accuracy: 0.7487 - val_loss: 0.4839 - val_accuracy: 0.8236\n",
      "Epoch 2/200\n",
      "55000/55000 [==============================] - 47s 858us/step - loss: 0.4747 - accuracy: 0.8288 - val_loss: 0.4446 - val_accuracy: 0.8388\n",
      "Epoch 3/200\n",
      "55000/55000 [==============================] - 49s 887us/step - loss: 0.4177 - accuracy: 0.8510 - val_loss: 0.4048 - val_accuracy: 0.8558\n",
      "Epoch 4/200\n",
      "55000/55000 [==============================] - 51s 919us/step - loss: 0.3815 - accuracy: 0.8631 - val_loss: 0.3960 - val_accuracy: 0.8522\n",
      "Epoch 5/200\n",
      "55000/55000 [==============================] - 49s 884us/step - loss: 0.3556 - accuracy: 0.8703 - val_loss: 0.3693 - val_accuracy: 0.8602\n",
      "Epoch 6/200\n",
      "55000/55000 [==============================] - 51s 931us/step - loss: 0.3346 - accuracy: 0.8791 - val_loss: 0.3262 - val_accuracy: 0.8832\n",
      "Epoch 7/200\n",
      "55000/55000 [==============================] - 51s 925us/step - loss: 0.3170 - accuracy: 0.8843 - val_loss: 0.3085 - val_accuracy: 0.8888\n",
      "Epoch 8/200\n",
      "55000/55000 [==============================] - 47s 847us/step - loss: 0.3015 - accuracy: 0.8894 - val_loss: 0.3204 - val_accuracy: 0.8816\n",
      "Epoch 9/200\n",
      "55000/55000 [==============================] - 48s 877us/step - loss: 0.2876 - accuracy: 0.8958 - val_loss: 0.2939 - val_accuracy: 0.8954\n",
      "Epoch 10/200\n",
      "55000/55000 [==============================] - 48s 871us/step - loss: 0.2769 - accuracy: 0.8991 - val_loss: 0.3012 - val_accuracy: 0.8932\n",
      "Epoch 11/200\n",
      "55000/55000 [==============================] - 48s 868us/step - loss: 0.2659 - accuracy: 0.9035 - val_loss: 0.3141 - val_accuracy: 0.8760\n",
      "Epoch 12/200\n",
      "55000/55000 [==============================] - 45s 819us/step - loss: 0.2565 - accuracy: 0.9059 - val_loss: 0.2764 - val_accuracy: 0.9024\n",
      "Epoch 13/200\n",
      "55000/55000 [==============================] - 49s 898us/step - loss: 0.2477 - accuracy: 0.9098 - val_loss: 0.2678 - val_accuracy: 0.9008\n",
      "Epoch 14/200\n",
      "55000/55000 [==============================] - 50s 901us/step - loss: 0.2389 - accuracy: 0.9133 - val_loss: 0.2711 - val_accuracy: 0.9004\n",
      "Epoch 15/200\n",
      "55000/55000 [==============================] - 52s 947us/step - loss: 0.2312 - accuracy: 0.9154 - val_loss: 0.2738 - val_accuracy: 0.9030\n",
      "Epoch 16/200\n",
      "55000/55000 [==============================] - 48s 873us/step - loss: 0.2231 - accuracy: 0.9183 - val_loss: 0.2690 - val_accuracy: 0.9038\n",
      "Epoch 17/200\n",
      "55000/55000 [==============================] - 49s 890us/step - loss: 0.2155 - accuracy: 0.9203 - val_loss: 0.2579 - val_accuracy: 0.9070\n",
      "Epoch 18/200\n",
      "55000/55000 [==============================] - 47s 849us/step - loss: 0.2080 - accuracy: 0.9248 - val_loss: 0.2765 - val_accuracy: 0.8976\n",
      "Epoch 19/200\n",
      "55000/55000 [==============================] - 45s 826us/step - loss: 0.2020 - accuracy: 0.9265 - val_loss: 0.2554 - val_accuracy: 0.9080\n",
      "Epoch 20/200\n",
      "55000/55000 [==============================] - 45s 820us/step - loss: 0.1940 - accuracy: 0.9295 - val_loss: 0.2632 - val_accuracy: 0.9088\n",
      "Epoch 21/200\n",
      "55000/55000 [==============================] - 45s 822us/step - loss: 0.1886 - accuracy: 0.9310 - val_loss: 0.2504 - val_accuracy: 0.9106\n",
      "Epoch 22/200\n",
      "55000/55000 [==============================] - 47s 846us/step - loss: 0.1808 - accuracy: 0.9338 - val_loss: 0.2477 - val_accuracy: 0.9094\n",
      "Epoch 23/200\n",
      "55000/55000 [==============================] - 46s 836us/step - loss: 0.1744 - accuracy: 0.9360 - val_loss: 0.2467 - val_accuracy: 0.9140\n",
      "Epoch 24/200\n",
      "55000/55000 [==============================] - 46s 828us/step - loss: 0.1685 - accuracy: 0.9393 - val_loss: 0.2770 - val_accuracy: 0.9006\n",
      "Epoch 25/200\n",
      "55000/55000 [==============================] - 46s 845us/step - loss: 0.1624 - accuracy: 0.9419 - val_loss: 0.2664 - val_accuracy: 0.9090\n",
      "Epoch 26/200\n",
      "55000/55000 [==============================] - 46s 833us/step - loss: 0.1566 - accuracy: 0.9438 - val_loss: 0.2662 - val_accuracy: 0.9070\n",
      "Epoch 27/200\n",
      "55000/55000 [==============================] - 46s 835us/step - loss: 0.1497 - accuracy: 0.9463 - val_loss: 0.2749 - val_accuracy: 0.8968\n",
      "Epoch 28/200\n",
      "55000/55000 [==============================] - 46s 841us/step - loss: 0.1453 - accuracy: 0.9473 - val_loss: 0.2572 - val_accuracy: 0.9114\n",
      "Epoch 29/200\n",
      "55000/55000 [==============================] - 48s 876us/step - loss: 0.1390 - accuracy: 0.9503 - val_loss: 0.2491 - val_accuracy: 0.9146\n",
      "Epoch 30/200\n",
      "55000/55000 [==============================] - 49s 886us/step - loss: 0.1331 - accuracy: 0.9522 - val_loss: 0.2498 - val_accuracy: 0.9114\n",
      "Epoch 31/200\n",
      "55000/55000 [==============================] - 47s 850us/step - loss: 0.1273 - accuracy: 0.9550 - val_loss: 0.2591 - val_accuracy: 0.9082\n",
      "Epoch 32/200\n",
      "55000/55000 [==============================] - 47s 858us/step - loss: 0.1226 - accuracy: 0.9557 - val_loss: 0.2544 - val_accuracy: 0.9130\n",
      "Epoch 33/200\n",
      "55000/55000 [==============================] - 47s 855us/step - loss: 0.1171 - accuracy: 0.9590 - val_loss: 0.2659 - val_accuracy: 0.9102\n"
     ]
    }
   ],
   "source": [
    "model=keras.models.Sequential()\n",
    "model.add(keras.layers.Conv2D(filters=32,kernel_size=(3,3),strides=1,padding='valid',activation='relu',input_shape=(28,28,1))) ### Convolution layer\n",
    "model.add(keras.layers.MaxPooling2D((2,2))) ### Max pooling\n",
    "\n",
    "model.add(keras.layers.Flatten()) ### Converting higher dimension to 1D by flattening\n",
    "model.add(keras.layers.Dense(300,activation='relu')) ### Hidden layer 1\n",
    "model.add(keras.layers.Dense(100,activation='relu')) ### Hidden layer 2\n",
    "model.add(keras.layers.Dense(10,activation='softmax')) #### Output layer\n",
    "\n",
    "model.compile(loss='sparse_categorical_crossentropy',optimizer='sgd',metrics=[\"accuracy\"])\n",
    "\n",
    "checkpoint_cb=keras.callbacks.ModelCheckpoint(\"cnn_early_stopped_model.h5\",save_best_only=True)\n",
    "early_stopping_cb=keras.callbacks.EarlyStopping(patience=10,restore_best_weights=True)\n",
    "##### Number of epochs after which no improvement after which training will be stopped\n",
    "history=model.fit(x_train,y_train,epochs=200,validation_data=(x_valid,y_valid),callbacks=[checkpoint_cb,early_stopping_cb])"
   ]
  },
  {
   "cell_type": "code",
   "execution_count": 31,
   "metadata": {},
   "outputs": [],
   "source": [
    "del model\n",
    "keras.backend.clear_session()"
   ]
  },
  {
   "cell_type": "code",
   "execution_count": 33,
   "metadata": {},
   "outputs": [
    {
     "name": "stdout",
     "output_type": "stream",
     "text": [
      "10000/10000 [==============================] - 2s 151us/step\n",
      "[0.26197311801314355, 0.9071999788284302]\n"
     ]
    },
    {
     "data": {
      "text/plain": [
       "array([9, 2, 1], dtype=int64)"
      ]
     },
     "execution_count": 33,
     "metadata": {},
     "output_type": "execute_result"
    }
   ],
   "source": [
    "model=keras.models.load_model(\"cnn_early_stopped_model.h5\")\n",
    "print(model.evaluate(x_test,y_test))\n",
    "model.predict_classes(x_new)"
   ]
  },
  {
   "cell_type": "code",
   "execution_count": 42,
   "metadata": {},
   "outputs": [],
   "source": [
    "weights,biases=model.layers[5].get_weights()"
   ]
  },
  {
   "cell_type": "code",
   "execution_count": 43,
   "metadata": {},
   "outputs": [
    {
     "data": {
      "text/plain": [
       "((100, 10), (10,))"
      ]
     },
     "execution_count": 43,
     "metadata": {},
     "output_type": "execute_result"
    }
   ],
   "source": [
    "weights.shape,biases.shape"
   ]
  },
  {
   "cell_type": "code",
   "execution_count": 45,
   "metadata": {},
   "outputs": [
    {
     "data": {
      "text/plain": [
       "(array([[-2.41945744e-01, -1.87677756e-01,  3.17780226e-02,\n",
       "          1.33966714e-01,  4.96163778e-02,  2.47394845e-01,\n",
       "         -1.91668440e-02, -1.28097773e-01, -6.71298243e-03,\n",
       "         -1.08456470e-01],\n",
       "        [ 5.43238260e-02,  1.17132887e-02,  8.41787905e-02,\n",
       "          2.38751426e-01, -2.72673458e-01,  2.82950923e-02,\n",
       "         -3.57660502e-01,  3.77723187e-01, -2.72133172e-01,\n",
       "          2.56184697e-01],\n",
       "        [-7.25519955e-02, -2.49252334e-01, -1.68931261e-01,\n",
       "         -2.61114836e-01, -1.07603244e-01, -1.60770372e-01,\n",
       "          3.05694565e-02, -1.10932775e-01,  2.25293323e-01,\n",
       "         -1.16205230e-01],\n",
       "        [-6.59305826e-02, -1.05278879e-01, -2.69643776e-02,\n",
       "         -2.50655055e-01, -1.54758602e-01,  5.77462278e-02,\n",
       "          1.92342967e-01, -2.32862979e-01,  8.38516802e-02,\n",
       "         -1.82378858e-01],\n",
       "        [ 3.62904966e-01, -2.42536724e-01, -7.23732114e-02,\n",
       "          2.34280005e-01,  2.23142460e-01, -6.97781146e-02,\n",
       "         -3.76683950e-01,  1.47168979e-01,  6.07695356e-02,\n",
       "          1.95479006e-01],\n",
       "        [-7.37000257e-02, -1.35672435e-01, -2.60441691e-01,\n",
       "          3.82590801e-01,  3.75506490e-01, -2.62401462e-01,\n",
       "          3.40947688e-01,  1.63796172e-01, -2.91698784e-01,\n",
       "         -9.14951041e-02],\n",
       "        [-2.41182968e-02,  1.00830749e-01, -1.02627560e-01,\n",
       "         -1.95840135e-01, -1.68656275e-01,  5.04350252e-02,\n",
       "         -1.19739734e-01, -3.52021903e-02,  1.27789900e-01,\n",
       "          5.66189401e-02],\n",
       "        [ 2.12934315e-01,  1.46234840e-01, -4.47042048e-01,\n",
       "          2.81639308e-01, -1.32147998e-01, -2.71223396e-01,\n",
       "          4.22830552e-01, -8.34350735e-02,  2.25629807e-01,\n",
       "          1.42924208e-02],\n",
       "        [-2.24827826e-01,  1.85511634e-01,  1.07130550e-01,\n",
       "         -1.87440142e-01, -1.03956223e-01, -1.82433948e-01,\n",
       "          1.53215975e-01,  3.85385811e-01, -1.69291392e-01,\n",
       "          2.05383807e-01],\n",
       "        [-2.00204417e-01,  2.92639077e-01, -3.43377262e-01,\n",
       "         -2.32897654e-01, -8.81865844e-02,  1.03591874e-01,\n",
       "          2.02393949e-01, -4.14194763e-01,  4.26005989e-01,\n",
       "          1.70220256e-01],\n",
       "        [-1.04315482e-01, -2.34442905e-01, -2.90457189e-01,\n",
       "          3.09996009e-01,  9.85743999e-02,  4.11583722e-01,\n",
       "         -1.95501387e-01, -1.47971049e-01, -3.39840143e-03,\n",
       "         -2.13158339e-01],\n",
       "        [-3.05319548e-01, -1.81663513e-01,  3.57096680e-02,\n",
       "          2.29670584e-01,  1.72868684e-01,  6.77142441e-02,\n",
       "          3.13264400e-01, -3.74079466e-01,  2.72142470e-01,\n",
       "         -1.71657026e-01],\n",
       "        [ 3.37633848e-01,  1.26925960e-01,  3.92386019e-02,\n",
       "          2.19716385e-01,  3.73485535e-02, -2.45295137e-01,\n",
       "          1.26421079e-02, -1.98343351e-01, -5.28930485e-01,\n",
       "         -2.20843285e-01],\n",
       "        [ 1.07263573e-01, -3.13734002e-02,  1.12025030e-01,\n",
       "         -1.72002390e-01, -1.39878318e-01, -3.16077560e-01,\n",
       "         -2.82168716e-01, -1.33371606e-01, -1.14306696e-01,\n",
       "          1.37303174e-01],\n",
       "        [-4.64746431e-02, -2.59553846e-02,  3.73108208e-01,\n",
       "          4.28781211e-02,  3.85609567e-02, -1.83716521e-01,\n",
       "          2.11020693e-01, -2.39955466e-02, -1.99858353e-01,\n",
       "         -1.02240242e-01],\n",
       "        [ 1.81765616e-01,  2.32523698e-02,  4.65419330e-03,\n",
       "          1.90226600e-01, -2.24746451e-01, -4.25748527e-03,\n",
       "          1.88090697e-01, -2.17918172e-01, -1.42438605e-01,\n",
       "          1.21421166e-01],\n",
       "        [-2.54415125e-01,  6.12085722e-02, -2.98787147e-01,\n",
       "         -2.05867901e-01,  7.82002602e-03,  1.22021846e-02,\n",
       "         -1.09772105e-02,  6.40289560e-02, -3.68137881e-02,\n",
       "         -2.40182176e-01],\n",
       "        [-3.63115489e-01,  3.85500163e-01,  2.00505018e-01,\n",
       "          3.38711053e-01, -1.85607746e-01, -8.31890702e-02,\n",
       "         -1.58124954e-01, -1.89018041e-01,  3.50208618e-02,\n",
       "          2.27752373e-01],\n",
       "        [-1.71305150e-01,  1.92964420e-01,  2.36035928e-01,\n",
       "         -3.71561408e-01,  2.12577134e-01, -1.12545386e-01,\n",
       "          3.40587527e-01, -3.52574885e-01, -3.43146861e-01,\n",
       "          2.29455888e-01],\n",
       "        [ 3.44300836e-01, -1.91691160e-01, -3.79465371e-01,\n",
       "          2.84763128e-01,  1.00255325e-01,  1.41485482e-01,\n",
       "         -7.92088881e-02,  3.92307192e-02, -3.43363057e-03,\n",
       "         -1.74001709e-01],\n",
       "        [ 5.70492372e-02, -3.36830497e-01, -3.25244695e-01,\n",
       "         -2.21258089e-01,  6.64532483e-02,  4.04241562e-01,\n",
       "          5.19921839e-01, -1.32282510e-01,  2.38843247e-01,\n",
       "          1.32434338e-01],\n",
       "        [-9.82310772e-02,  1.68964207e-01,  1.44882768e-01,\n",
       "          2.25670442e-01,  1.47639677e-01, -1.41663775e-01,\n",
       "          4.48189437e-01, -1.02508567e-01, -1.97378933e-01,\n",
       "          1.31561294e-01],\n",
       "        [-7.37316757e-02, -1.89735353e-01,  1.44099072e-01,\n",
       "          3.25845219e-02,  3.26679558e-01, -6.79635536e-03,\n",
       "         -1.86810866e-01,  3.12418699e-01, -9.32544023e-02,\n",
       "         -2.29719475e-01],\n",
       "        [-2.40623593e-01, -1.33275390e-01,  3.19394208e-02,\n",
       "          1.35857135e-01, -1.23523036e-02, -1.19037874e-01,\n",
       "         -1.57499745e-01,  9.98654664e-02, -8.85851681e-02,\n",
       "         -2.42547289e-01],\n",
       "        [-1.98565215e-01,  1.24214679e-01,  1.38029367e-01,\n",
       "          3.48193079e-01,  3.34838569e-01, -2.32572153e-01,\n",
       "          1.42169455e-02, -2.16649063e-02,  6.00213669e-02,\n",
       "          9.50905234e-02],\n",
       "        [-2.12515667e-01,  1.92980230e-01,  1.72983453e-01,\n",
       "         -5.64870909e-02,  1.10266469e-01, -1.04714632e-01,\n",
       "          5.83912134e-02, -3.12810414e-03,  2.20527768e-01,\n",
       "         -9.39110368e-02],\n",
       "        [-1.37918353e-01,  2.68128496e-02,  1.00478873e-01,\n",
       "         -1.66962340e-01,  1.68740317e-01, -4.21943590e-02,\n",
       "          7.40958899e-02,  2.03311682e-01, -2.01674193e-01,\n",
       "         -5.91623709e-02],\n",
       "        [-2.66100317e-01, -1.27029702e-01, -3.07486509e-03,\n",
       "          3.27571929e-01, -1.23456076e-01,  1.86518833e-01,\n",
       "          5.24221174e-02,  9.72245857e-02, -8.28706697e-02,\n",
       "         -6.53600320e-02],\n",
       "        [ 3.41367453e-01,  1.96366981e-01, -1.47983715e-01,\n",
       "         -3.23635370e-01,  1.82943463e-01, -4.98815663e-02,\n",
       "          2.26967946e-01,  7.96424672e-02,  2.50733569e-02,\n",
       "         -2.46883497e-01],\n",
       "        [ 1.14937089e-01,  1.73030794e-02, -2.03019097e-01,\n",
       "         -1.74103826e-01,  2.67670956e-03,  1.45546198e-01,\n",
       "         -2.58772105e-01,  3.36698383e-01, -3.52150321e-01,\n",
       "          2.13495381e-02],\n",
       "        [-8.01722184e-02,  4.32598367e-02, -5.67171909e-02,\n",
       "         -2.97780067e-01, -1.44708842e-01,  1.18761241e-01,\n",
       "         -1.31400004e-01, -1.79675207e-01, -3.30897987e-01,\n",
       "          3.90323490e-01],\n",
       "        [ 1.83344305e-01, -1.49941325e-01, -2.95625240e-01,\n",
       "         -2.20828786e-01,  2.55906105e-01, -3.30382556e-01,\n",
       "          2.36708805e-01,  2.63270169e-01,  3.00897956e-01,\n",
       "         -1.70077920e-01],\n",
       "        [ 3.75226289e-01,  1.21951677e-01,  7.31842518e-02,\n",
       "          7.89950937e-02,  1.28210708e-01, -3.85976702e-01,\n",
       "          3.44042152e-01, -4.47154455e-02,  3.26849043e-01,\n",
       "          1.44125372e-01],\n",
       "        [ 3.10284436e-01, -8.36801454e-02, -2.82917470e-02,\n",
       "         -3.18645447e-01, -3.08502734e-01,  4.25410181e-01,\n",
       "         -2.11160973e-01, -2.98509806e-01, -6.84623718e-02,\n",
       "          1.33028552e-01],\n",
       "        [-3.82493138e-01,  3.27664435e-01, -1.10278770e-01,\n",
       "         -5.23141026e-02,  2.35768855e-01,  3.28210056e-01,\n",
       "         -9.47416350e-02,  2.04874381e-01,  7.49338418e-02,\n",
       "         -1.70240089e-01],\n",
       "        [-2.58378267e-01, -3.62648934e-01,  6.02584817e-02,\n",
       "         -2.87747443e-01,  3.05741698e-01, -3.21056396e-01,\n",
       "          1.83996886e-01,  1.16438353e-02,  2.65058905e-01,\n",
       "          2.31218785e-01],\n",
       "        [-1.79092184e-01, -1.13460742e-01, -2.48276353e-01,\n",
       "         -1.72871947e-02, -3.42137516e-01,  2.70637929e-01,\n",
       "          6.44234419e-01, -2.72799730e-01, -1.01777323e-01,\n",
       "         -1.82499707e-01],\n",
       "        [ 1.39365703e-01, -1.43514976e-01,  2.52350748e-01,\n",
       "          1.73444226e-01, -1.31840231e-02,  1.06740423e-01,\n",
       "          1.15081213e-01,  1.58129498e-01,  1.69753179e-01,\n",
       "         -3.88494916e-02],\n",
       "        [ 2.13282943e-01, -8.47245604e-02, -7.09768906e-02,\n",
       "          1.03161886e-01, -7.71143800e-03, -2.17785820e-01,\n",
       "         -6.91220462e-02,  2.57107228e-01,  1.21761793e-02,\n",
       "         -1.63479015e-01],\n",
       "        [ 8.24602321e-02,  2.85074227e-02, -2.13506892e-02,\n",
       "         -2.74400622e-01, -2.38338545e-01,  1.71886921e-01,\n",
       "         -2.79137422e-03,  9.74022895e-02,  5.38286455e-02,\n",
       "         -7.12218061e-02],\n",
       "        [-1.60429314e-01,  2.82308191e-01,  1.39956877e-01,\n",
       "          2.74520993e-01, -1.17441326e-01,  6.09930269e-02,\n",
       "         -9.66917723e-02,  1.14955284e-01, -1.40976191e-01,\n",
       "         -1.22393094e-01],\n",
       "        [ 1.61276340e-01, -2.05203891e-01,  3.00408155e-01,\n",
       "         -2.84548968e-01, -3.36811543e-02, -5.17115057e-01,\n",
       "         -2.86881715e-01,  4.39299822e-01,  1.44850045e-01,\n",
       "          2.80492269e-02],\n",
       "        [ 2.05417067e-01, -9.18935314e-02, -5.68124801e-02,\n",
       "          1.93618432e-01, -3.96882951e-01, -2.77348727e-01,\n",
       "          4.92722660e-01,  9.29812714e-02,  6.85352907e-02,\n",
       "          1.23358384e-01],\n",
       "        [ 3.68692994e-01,  3.44811201e-01,  2.64648974e-01,\n",
       "         -1.96240187e-01, -4.79181051e-01,  1.39147431e-01,\n",
       "          3.08516562e-01, -3.53104696e-02, -2.59217680e-01,\n",
       "         -1.14846170e-01],\n",
       "        [ 1.30379111e-01, -1.00198597e-01, -5.26733287e-02,\n",
       "         -3.12892944e-01,  2.48195753e-01, -9.22495574e-02,\n",
       "          3.75310108e-02, -6.79892972e-02, -1.00669742e-01,\n",
       "          3.11099917e-01],\n",
       "        [ 1.92259282e-01,  1.49315894e-01,  4.22350526e-01,\n",
       "          1.89515218e-01,  9.64115784e-02,  3.07383865e-01,\n",
       "         -3.60094160e-01, -2.01635784e-03, -3.27496827e-01,\n",
       "          3.10068205e-02],\n",
       "        [-6.12356886e-02, -2.54553445e-02,  3.84480953e-02,\n",
       "          1.81975722e-01,  1.65683776e-01,  2.51263618e-01,\n",
       "         -1.78458482e-01, -3.56130570e-01,  2.35068619e-01,\n",
       "          9.87845510e-02],\n",
       "        [ 1.68655261e-01, -2.23697662e-01,  7.12667331e-02,\n",
       "          1.74499825e-01, -8.18393473e-03,  2.44912766e-02,\n",
       "          1.83064938e-02, -1.16781823e-01, -5.84480055e-02,\n",
       "         -1.48157492e-01],\n",
       "        [-1.72773317e-01, -4.55675460e-02, -1.37639403e-01,\n",
       "          1.45020574e-01, -3.84018384e-02, -4.23881412e-02,\n",
       "         -2.27177933e-01,  2.17901960e-01, -2.22121775e-01,\n",
       "          1.62175462e-01],\n",
       "        [-7.84894172e-03, -4.44911212e-01,  2.40811363e-01,\n",
       "          3.27031724e-02, -1.13328271e-01, -3.02266419e-01,\n",
       "          2.40204245e-01, -1.86232999e-01,  2.60654837e-02,\n",
       "         -1.25751302e-01],\n",
       "        [ 9.00812894e-02, -1.07205631e-02,  1.08803004e-01,\n",
       "         -2.86172062e-01,  2.50846803e-01,  2.10640859e-02,\n",
       "         -2.80113876e-01,  4.94639250e-03, -3.99357155e-02,\n",
       "          3.10355633e-01],\n",
       "        [ 2.17889890e-01, -2.11859033e-01,  2.04992563e-01,\n",
       "          9.47138891e-02,  2.23078817e-01, -1.83876634e-01,\n",
       "          1.81802943e-01, -1.59660980e-01,  4.68535870e-02,\n",
       "         -9.66446996e-02],\n",
       "        [ 3.01240254e-02,  2.87032962e-01, -3.47912401e-01,\n",
       "         -1.76785111e-01,  5.67918383e-02,  2.44693130e-01,\n",
       "          1.16478108e-01, -3.08602333e-01, -2.53953159e-01,\n",
       "         -3.46334763e-02],\n",
       "        [ 8.90386775e-02, -4.93637472e-01, -3.09547871e-01,\n",
       "          4.02863234e-01, -4.08804327e-01,  1.13505192e-01,\n",
       "         -7.50683174e-02,  2.61598945e-01,  3.89834642e-01,\n",
       "          1.39060155e-01],\n",
       "        [ 1.78044084e-02, -1.78613573e-01,  1.26995891e-01,\n",
       "          9.55035910e-02, -4.53801220e-03, -2.16063991e-01,\n",
       "          5.17381281e-02,  1.49605334e-01,  2.32647434e-01,\n",
       "          1.92382023e-01],\n",
       "        [ 2.84704775e-01, -4.74722832e-01,  3.68612081e-01,\n",
       "          3.84346217e-01,  3.11703444e-01, -2.18229815e-01,\n",
       "          2.22520515e-01, -4.73109752e-01,  1.36854285e-02,\n",
       "         -1.10199220e-01],\n",
       "        [ 2.15071201e-01, -1.89979941e-01, -2.14745343e-01,\n",
       "         -1.76417768e-01,  1.73764184e-01, -1.47065490e-01,\n",
       "          3.07090413e-02,  3.63492042e-01, -3.06602687e-01,\n",
       "          2.39190534e-01],\n",
       "        [-2.47446105e-01, -1.25252098e-01, -2.20862463e-01,\n",
       "         -1.02573492e-01,  2.77065545e-01,  1.60490885e-01,\n",
       "         -3.64888459e-01,  2.80206263e-01,  1.55554116e-01,\n",
       "         -1.08042732e-01],\n",
       "        [ 2.32494220e-01,  2.24008441e-01,  4.90444154e-01,\n",
       "          2.15567857e-01,  1.85955524e-01, -3.52138132e-01,\n",
       "         -3.77304196e-01, -4.70139645e-02,  2.16186065e-02,\n",
       "          2.02380970e-01],\n",
       "        [ 2.53545642e-01,  2.84891129e-01, -1.60977811e-01,\n",
       "          1.56654473e-02,  2.88210541e-01,  1.20974079e-01,\n",
       "         -5.03449619e-01,  5.78262173e-02,  3.27137619e-01,\n",
       "         -3.73300076e-01],\n",
       "        [-5.03228791e-02,  1.45243466e-01,  2.31155604e-01,\n",
       "          4.36110348e-02, -1.47550315e-01, -1.19995929e-01,\n",
       "         -1.24151751e-01,  7.80498609e-02,  4.27197330e-02,\n",
       "          1.27069697e-01],\n",
       "        [-1.55969784e-01,  4.38252762e-02,  3.96359824e-02,\n",
       "          2.22188652e-01, -2.42204648e-02, -2.12669522e-02,\n",
       "          3.03734034e-01,  9.82219204e-02,  4.06151921e-01,\n",
       "         -3.90563637e-01],\n",
       "        [ 5.27339876e-02,  2.37715825e-01, -2.20160156e-01,\n",
       "          1.18119441e-01, -3.82418232e-03, -1.65579587e-01,\n",
       "         -3.98162127e-01, -1.39041888e-02,  1.92236230e-01,\n",
       "          1.03469566e-01],\n",
       "        [ 1.94578141e-01, -4.02997702e-01,  4.25613001e-02,\n",
       "          3.36227924e-01,  2.80315429e-01,  8.76731351e-02,\n",
       "          4.02504683e-01, -3.44101459e-01, -4.61915553e-01,\n",
       "          6.91335127e-02],\n",
       "        [-1.14973010e-02,  2.63021111e-01,  1.69791773e-01,\n",
       "          1.90092608e-01, -2.25841239e-01,  5.18911518e-02,\n",
       "          6.58832490e-02, -9.90312397e-02,  3.49337310e-01,\n",
       "          9.05387998e-02],\n",
       "        [-1.35933861e-01, -3.16179633e-01,  2.62508303e-01,\n",
       "         -1.34248227e-01,  2.61996776e-01, -2.14947797e-02,\n",
       "         -8.12817812e-02,  1.17588371e-01, -1.24529049e-01,\n",
       "         -2.13128179e-01],\n",
       "        [ 1.18251532e-01, -1.73106581e-01, -2.41915151e-01,\n",
       "         -8.86804760e-02, -1.94230989e-01, -1.78302646e-01,\n",
       "          4.85649377e-01, -7.43889138e-02, -3.37099284e-02,\n",
       "          4.46431749e-02],\n",
       "        [ 1.98936582e-01,  1.98145479e-01, -3.07359546e-01,\n",
       "         -6.65266737e-02,  4.90381680e-02, -2.75809050e-01,\n",
       "          2.59010345e-01, -3.32961529e-01,  2.36715972e-01,\n",
       "         -2.84585711e-02],\n",
       "        [ 3.43487859e-01, -1.17961809e-01,  4.48410865e-03,\n",
       "         -3.33300233e-01, -2.11602062e-01, -2.49682322e-01,\n",
       "          1.76853493e-01,  1.37851397e-02, -2.92803675e-01,\n",
       "         -4.78997901e-02],\n",
       "        [-1.62993237e-01,  3.16290595e-02,  7.19133392e-02,\n",
       "         -1.00135192e-01,  2.94983119e-01,  3.33207488e-01,\n",
       "         -2.87056327e-01,  3.52002233e-01,  9.35060084e-02,\n",
       "         -4.18190420e-01],\n",
       "        [-7.46806338e-02, -2.75753975e-01, -2.81994671e-01,\n",
       "         -2.08597273e-01, -9.46786851e-02,  4.10690129e-01,\n",
       "         -2.94952810e-01,  8.22653919e-02,  2.18909606e-01,\n",
       "         -9.07910839e-02],\n",
       "        [-1.99432567e-01, -4.10641320e-02, -1.07533872e-01,\n",
       "         -2.92151839e-01,  3.74374300e-01,  3.59347701e-01,\n",
       "          4.06349376e-02, -9.74237174e-02, -9.65323970e-02,\n",
       "         -2.57711679e-01],\n",
       "        [-1.61709383e-01,  9.59892645e-02,  6.25565276e-02,\n",
       "          3.50659817e-01, -2.01857567e-01,  2.15213731e-01,\n",
       "         -9.43681151e-02, -2.20939308e-01, -4.17779759e-03,\n",
       "         -1.26559705e-01],\n",
       "        [ 4.16547433e-02, -1.10516764e-01,  4.77290452e-02,\n",
       "          1.13280118e-01,  1.26021817e-01,  7.78918564e-02,\n",
       "         -1.53402567e-01,  2.88842376e-02,  1.68830469e-01,\n",
       "          1.33683085e-02],\n",
       "        [ 1.94020152e-01,  5.08079343e-02,  2.52387840e-02,\n",
       "          1.48026824e-01, -3.24082896e-02,  3.07083100e-01,\n",
       "         -2.30996639e-01,  6.78536594e-02, -1.99064150e-01,\n",
       "         -1.29108103e-02],\n",
       "        [ 2.22677827e-01,  3.95593107e-01, -2.04328626e-01,\n",
       "         -2.65438527e-01, -1.41803697e-01, -5.98393306e-02,\n",
       "         -1.51936218e-01, -2.13562295e-01,  9.35426429e-02,\n",
       "         -1.77130654e-01],\n",
       "        [ 6.95193186e-02, -3.52232486e-01,  4.14392501e-01,\n",
       "         -3.59359145e-01, -4.44665924e-03,  2.00418621e-01,\n",
       "          3.36420797e-02, -4.81655061e-01,  1.56798676e-01,\n",
       "         -3.30327034e-01],\n",
       "        [ 2.13761464e-01,  1.74571499e-01,  3.02962691e-01,\n",
       "         -2.84103811e-01,  2.28583366e-01, -1.94250420e-01,\n",
       "         -1.03876680e-01, -6.60811812e-02, -3.72004598e-01,\n",
       "          3.93881314e-02],\n",
       "        [-3.26600522e-02,  1.27298117e-01, -3.87728177e-02,\n",
       "          3.29883099e-01,  3.87982652e-02, -6.83779595e-03,\n",
       "         -2.22827837e-01, -1.25854686e-01,  8.05753842e-02,\n",
       "         -7.51318634e-02],\n",
       "        [ 2.51547903e-01, -8.30701590e-02,  1.20796198e-02,\n",
       "          1.21151343e-01, -1.47228330e-01,  1.37936220e-01,\n",
       "          1.56934887e-01,  2.21069813e-01,  2.92424142e-01,\n",
       "         -2.57712811e-01],\n",
       "        [ 1.39782682e-01,  3.10742199e-01,  3.45277905e-01,\n",
       "          1.41858399e-01, -1.62815168e-01, -3.71308744e-01,\n",
       "          3.67130846e-01, -3.86117492e-04, -2.65287310e-01,\n",
       "         -2.20117241e-01],\n",
       "        [ 5.26987314e-02, -2.31212899e-01, -1.77471757e-01,\n",
       "         -3.64353247e-02, -2.64675677e-01, -1.23720355e-01,\n",
       "          1.43690094e-01, -1.49737731e-01,  2.83267111e-01,\n",
       "          3.65049630e-01],\n",
       "        [ 3.13167304e-01, -8.28598142e-02, -2.15253934e-01,\n",
       "         -1.84854299e-01,  2.25387946e-01, -1.50918663e-01,\n",
       "         -3.80586892e-01, -5.50511219e-02,  1.05446309e-01,\n",
       "         -7.03709796e-02],\n",
       "        [ 2.25683689e-01, -1.21441379e-01, -2.24208012e-01,\n",
       "         -9.61743817e-02, -2.28227433e-02,  3.34228069e-01,\n",
       "         -1.50100589e-01,  1.35724992e-01, -6.43739626e-02,\n",
       "          1.39145374e-01],\n",
       "        [-2.98625648e-01,  8.75296816e-02,  3.25639188e-01,\n",
       "         -3.21895450e-01,  4.21052426e-01, -3.13302577e-01,\n",
       "          6.62232796e-03, -2.65756905e-01, -3.85899782e-01,\n",
       "         -2.86496937e-01],\n",
       "        [-2.57368118e-01,  7.15702847e-02, -4.51894291e-02,\n",
       "          2.77344942e-01, -1.74668223e-01, -3.47696036e-01,\n",
       "          1.75203532e-01,  2.73668826e-01, -9.59836096e-02,\n",
       "         -5.10069393e-02],\n",
       "        [ 2.73649752e-01,  3.61505598e-01, -1.25866532e-01,\n",
       "          1.66645378e-01, -2.03223497e-01,  3.25145125e-01,\n",
       "          7.86797479e-02, -2.93915778e-01, -2.94468015e-01,\n",
       "          1.66845560e-01],\n",
       "        [-2.25502476e-01, -2.53384560e-02,  1.72292694e-01,\n",
       "          1.29173473e-01,  1.77073717e-01,  5.53768948e-02,\n",
       "         -8.43110532e-02,  5.39571196e-02, -1.58982724e-01,\n",
       "          3.14890116e-01],\n",
       "        [ 1.14148095e-01, -1.36270419e-01,  2.10577622e-01,\n",
       "          8.57082307e-02, -6.30977303e-02, -1.05568983e-01,\n",
       "         -1.83625981e-01,  3.89707796e-02, -1.45047426e-01,\n",
       "         -1.14268474e-01],\n",
       "        [-2.80442715e-01,  2.41320908e-01, -1.19679660e-01,\n",
       "          2.80133605e-01,  3.66473973e-01,  1.54304981e-01,\n",
       "         -4.91287827e-01, -1.31706864e-01, -3.71225812e-02,\n",
       "          5.90311848e-02],\n",
       "        [ 8.08737800e-03, -1.64436415e-01,  9.27985311e-02,\n",
       "         -7.03401789e-02, -1.04864672e-01,  9.29518193e-02,\n",
       "         -2.14994803e-01,  1.83264866e-01,  1.65796027e-01,\n",
       "         -1.05484769e-01],\n",
       "        [ 3.29269879e-02, -3.20793927e-01,  2.74583966e-01,\n",
       "          2.03492463e-01, -2.96665311e-01, -3.91676635e-01,\n",
       "          4.00408134e-02,  1.57285243e-01, -1.20067835e-01,\n",
       "          2.69459426e-01],\n",
       "        [-4.14576501e-01,  2.43809611e-01, -9.88590047e-02,\n",
       "          1.89770147e-01,  4.72762324e-02, -8.49814434e-03,\n",
       "         -2.31843591e-01,  5.14138378e-02, -2.66592234e-01,\n",
       "          1.20768607e-01],\n",
       "        [ 1.51368320e-01,  3.30352187e-01, -6.93541244e-02,\n",
       "         -2.53979564e-01,  2.21732453e-01,  1.29875273e-01,\n",
       "         -6.43199682e-02, -5.35494946e-02,  2.70798594e-01,\n",
       "         -2.71851838e-01],\n",
       "        [-2.17562795e-01,  1.91447422e-01, -2.19175652e-01,\n",
       "          2.44283333e-01, -1.79004505e-01,  1.29480094e-01,\n",
       "          2.34731793e-01,  3.31716329e-01, -3.63279700e-01,\n",
       "          1.81408957e-01],\n",
       "        [ 3.61682773e-01,  2.05880344e-01,  1.63731933e-01,\n",
       "          3.09078507e-02, -4.63837683e-02, -4.04928356e-01,\n",
       "          8.54125544e-02, -1.04129203e-01,  2.64700234e-01,\n",
       "         -3.83980304e-01],\n",
       "        [ 9.42212120e-02,  1.38100013e-01,  1.57302812e-01,\n",
       "         -7.37776756e-02, -1.57750726e-01, -7.41984993e-02,\n",
       "         -1.03048012e-01, -5.08003607e-02, -1.82612129e-02,\n",
       "          2.08746985e-01],\n",
       "        [-1.27029911e-01,  1.25840744e-02, -7.67927021e-02,\n",
       "         -2.17737327e-03, -3.29903960e-02, -1.75910696e-01,\n",
       "         -6.10466897e-02, -2.60087550e-02, -7.32146353e-02,\n",
       "         -2.33577341e-01],\n",
       "        [-4.69084978e-01, -1.92510128e-01,  3.67471755e-01,\n",
       "         -2.95988172e-01, -2.22955227e-01,  2.27830052e-01,\n",
       "         -7.96781629e-02,  2.79346615e-01,  4.33729380e-01,\n",
       "          3.01341265e-01],\n",
       "        [ 8.35082829e-02,  8.28874260e-02,  5.16990907e-02,\n",
       "         -3.14080417e-01, -8.92314911e-02,  5.00501156e-01,\n",
       "          1.47687897e-01, -2.87646800e-01, -2.96977013e-01,\n",
       "         -2.63581485e-01]], dtype=float32),\n",
       " array([ 0.04410182, -0.05862812,  0.10655912,  0.01738632, -0.12751572,\n",
       "         0.03770674,  0.05072765,  0.00308365, -0.0006864 , -0.0727361 ],\n",
       "       dtype=float32))"
      ]
     },
     "execution_count": 45,
     "metadata": {},
     "output_type": "execute_result"
    }
   ],
   "source": [
    "weights,biases"
   ]
  },
  {
   "cell_type": "code",
   "execution_count": null,
   "metadata": {},
   "outputs": [],
   "source": []
  }
 ],
 "metadata": {
  "kernelspec": {
   "display_name": "Python 3",
   "language": "python",
   "name": "python3"
  },
  "language_info": {
   "codemirror_mode": {
    "name": "ipython",
    "version": 3
   },
   "file_extension": ".py",
   "mimetype": "text/x-python",
   "name": "python",
   "nbconvert_exporter": "python",
   "pygments_lexer": "ipython3",
   "version": "3.7.7"
  }
 },
 "nbformat": 4,
 "nbformat_minor": 4
}
