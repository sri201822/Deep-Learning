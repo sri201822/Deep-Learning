{
 "cells": [
  {
   "cell_type": "code",
   "execution_count": 1,
   "metadata": {},
   "outputs": [],
   "source": [
    "train_dir=r\"C:\\Users\\sidre\\Desktop\\cats_and_dogs_small\\train\"\n",
    "valid_dir=r\"C:\\Users\\sidre\\Desktop\\cats_and_dogs_small\\validation\"\n",
    "test_dir=r\"C:\\Users\\sidre\\Desktop\\cats_and_dogs_small\\test\""
   ]
  },
  {
   "cell_type": "code",
   "execution_count": 2,
   "metadata": {},
   "outputs": [],
   "source": [
    "from tensorflow.keras.preprocessing.image import ImageDataGenerator"
   ]
  },
  {
   "cell_type": "code",
   "execution_count": 4,
   "metadata": {},
   "outputs": [],
   "source": [
    "### We have different images with different specifics: portrait,landscape,different dimensions\n",
    "## ImageDateGenerator will reshape all of them and bring them to same dimension "
   ]
  },
  {
   "cell_type": "code",
   "execution_count": 12,
   "metadata": {},
   "outputs": [
    {
     "name": "stdout",
     "output_type": "stream",
     "text": [
      "Found 2000 images belonging to 2 classes.\n",
      "Found 1000 images belonging to 2 classes.\n"
     ]
    }
   ],
   "source": [
    "### Generating batches of tensor image data\n",
    "train_datagen=ImageDataGenerator(rescale=1/255.)\n",
    "test_datagen=ImageDataGenerator(rescale=1/255.)\n",
    "train_generator=train_datagen.flow_from_directory(train_dir,target_size=(150,150),batch_size=20,class_mode='binary')\n",
    "validation_generator=test_datagen.flow_from_directory(test_dir,target_size=(150,150),batch_size=20,class_mode='binary')"
   ]
  },
  {
   "cell_type": "code",
   "execution_count": 10,
   "metadata": {},
   "outputs": [],
   "source": [
    "from tensorflow.keras import layers\n",
    "from tensorflow.keras import models\n",
    "model=models.Sequential()\n",
    "model.add(layers.Conv2D(32,(3,3),activation='relu',input_shape=(150,150,3))) ## 32 filters with 3x3 window with 3 channels\n",
    "model.add(layers.MaxPooling2D((2,2))) ## 2x2 max pooling layer\n",
    "\n",
    "model.add(layers.Conv2D(64,(3,3),activation='relu'))\n",
    "model.add(layers.MaxPooling2D((2,2)))\n",
    "\n",
    "model.add(layers.Conv2D(128,(3,3),activation='relu'))\n",
    "model.add(layers.MaxPooling2D((2,2)))\n",
    "\n",
    "model.add(layers.Conv2D(128,(3,3),activation='relu'))\n",
    "model.add(layers.MaxPooling2D((2,2)))\n",
    "\n",
    "model.add(layers.Flatten())\n",
    "model.add(layers.Dense(512,activation='relu'))\n",
    "model.add(layers.Dense(1,activation='sigmoid'))\n"
   ]
  },
  {
   "cell_type": "code",
   "execution_count": 11,
   "metadata": {},
   "outputs": [
    {
     "name": "stdout",
     "output_type": "stream",
     "text": [
      "Model: \"sequential_3\"\n",
      "_________________________________________________________________\n",
      "Layer (type)                 Output Shape              Param #   \n",
      "=================================================================\n",
      "conv2d_12 (Conv2D)           (None, 148, 148, 32)      896       \n",
      "_________________________________________________________________\n",
      "max_pooling2d_12 (MaxPooling (None, 74, 74, 32)        0         \n",
      "_________________________________________________________________\n",
      "conv2d_13 (Conv2D)           (None, 72, 72, 64)        18496     \n",
      "_________________________________________________________________\n",
      "max_pooling2d_13 (MaxPooling (None, 36, 36, 64)        0         \n",
      "_________________________________________________________________\n",
      "conv2d_14 (Conv2D)           (None, 34, 34, 128)       73856     \n",
      "_________________________________________________________________\n",
      "max_pooling2d_14 (MaxPooling (None, 17, 17, 128)       0         \n",
      "_________________________________________________________________\n",
      "conv2d_15 (Conv2D)           (None, 15, 15, 128)       147584    \n",
      "_________________________________________________________________\n",
      "max_pooling2d_15 (MaxPooling (None, 7, 7, 128)         0         \n",
      "_________________________________________________________________\n",
      "flatten_2 (Flatten)          (None, 6272)              0         \n",
      "_________________________________________________________________\n",
      "dense_1 (Dense)              (None, 512)               3211776   \n",
      "_________________________________________________________________\n",
      "dense_2 (Dense)              (None, 1)                 513       \n",
      "=================================================================\n",
      "Total params: 3,453,121\n",
      "Trainable params: 3,453,121\n",
      "Non-trainable params: 0\n",
      "_________________________________________________________________\n"
     ]
    }
   ],
   "source": [
    "model.summary()"
   ]
  },
  {
   "cell_type": "code",
   "execution_count": 14,
   "metadata": {},
   "outputs": [],
   "source": [
    "from tensorflow.keras import optimizers\n",
    "model.compile(loss='binary_crossentropy',optimizer=optimizers.RMSprop(lr=1e-4),metrics=[\"accuracy\"])\n"
   ]
  },
  {
   "cell_type": "code",
   "execution_count": 17,
   "metadata": {},
   "outputs": [
    {
     "name": "stdout",
     "output_type": "stream",
     "text": [
      "Epoch 1/20\n",
      "100/100 [==============================] - 112s 1s/step - loss: 0.6262 - accuracy: 0.6615 - val_loss: 0.6278 - val_accuracy: 0.6360\n",
      "Epoch 2/20\n",
      "100/100 [==============================] - 113s 1s/step - loss: 0.5841 - accuracy: 0.6885 - val_loss: 0.6072 - val_accuracy: 0.6670\n",
      "Epoch 3/20\n",
      "100/100 [==============================] - 100s 1s/step - loss: 0.5527 - accuracy: 0.7170 - val_loss: 0.5841 - val_accuracy: 0.6910\n",
      "Epoch 4/20\n",
      "100/100 [==============================] - 99s 986ms/step - loss: 0.5152 - accuracy: 0.7450 - val_loss: 0.5794 - val_accuracy: 0.6920\n",
      "Epoch 5/20\n",
      "100/100 [==============================] - 97s 973ms/step - loss: 0.4932 - accuracy: 0.7610 - val_loss: 0.5616 - val_accuracy: 0.7210\n",
      "Epoch 6/20\n",
      "100/100 [==============================] - 98s 980ms/step - loss: 0.4699 - accuracy: 0.7670 - val_loss: 0.5707 - val_accuracy: 0.6930\n",
      "Epoch 7/20\n",
      "100/100 [==============================] - 100s 997ms/step - loss: 0.4471 - accuracy: 0.7945 - val_loss: 0.5652 - val_accuracy: 0.7180\n",
      "Epoch 8/20\n",
      "100/100 [==============================] - 99s 990ms/step - loss: 0.4145 - accuracy: 0.8025 - val_loss: 0.5450 - val_accuracy: 0.7380\n",
      "Epoch 9/20\n",
      "100/100 [==============================] - 99s 985ms/step - loss: 0.3955 - accuracy: 0.8255 - val_loss: 0.5439 - val_accuracy: 0.7440\n",
      "Epoch 10/20\n",
      "100/100 [==============================] - 99s 987ms/step - loss: 0.3655 - accuracy: 0.8385 - val_loss: 0.5859 - val_accuracy: 0.7160\n",
      "Epoch 11/20\n",
      "100/100 [==============================] - 98s 982ms/step - loss: 0.3508 - accuracy: 0.8450 - val_loss: 0.5721 - val_accuracy: 0.7190\n",
      "Epoch 12/20\n",
      "100/100 [==============================] - 99s 993ms/step - loss: 0.3198 - accuracy: 0.8570 - val_loss: 0.5636 - val_accuracy: 0.7290\n",
      "Epoch 13/20\n",
      "100/100 [==============================] - 99s 987ms/step - loss: 0.2930 - accuracy: 0.8755 - val_loss: 0.5763 - val_accuracy: 0.7360\n",
      "Epoch 14/20\n",
      "100/100 [==============================] - 99s 986ms/step - loss: 0.2788 - accuracy: 0.8910 - val_loss: 0.6053 - val_accuracy: 0.7240\n",
      "Epoch 15/20\n",
      "100/100 [==============================] - 99s 992ms/step - loss: 0.2521 - accuracy: 0.8995 - val_loss: 0.6332 - val_accuracy: 0.7270\n",
      "Epoch 16/20\n",
      "100/100 [==============================] - 99s 986ms/step - loss: 0.2259 - accuracy: 0.9150 - val_loss: 0.6623 - val_accuracy: 0.7170\n",
      "Epoch 17/20\n",
      "100/100 [==============================] - 98s 983ms/step - loss: 0.2046 - accuracy: 0.9230 - val_loss: 0.6869 - val_accuracy: 0.7290\n",
      "Epoch 18/20\n",
      "100/100 [==============================] - 99s 987ms/step - loss: 0.1832 - accuracy: 0.9295 - val_loss: 0.6470 - val_accuracy: 0.7320\n",
      "Epoch 19/20\n",
      "100/100 [==============================] - 98s 982ms/step - loss: 0.1661 - accuracy: 0.9400 - val_loss: 0.7008 - val_accuracy: 0.7340\n",
      "Epoch 20/20\n",
      "100/100 [==============================] - 98s 977ms/step - loss: 0.1519 - accuracy: 0.9495 - val_loss: 0.6970 - val_accuracy: 0.7260\n"
     ]
    }
   ],
   "source": [
    "history=model.fit_generator(train_generator,steps_per_epoch=100,epochs=20,\n",
    "                            validation_data=validation_generator,validation_steps=50) \n",
    "# since we have 2000 we need to see that steps_per_epoch*epochs=2000"
   ]
  },
  {
   "cell_type": "code",
   "execution_count": 18,
   "metadata": {},
   "outputs": [
    {
     "data": {
      "image/png": "[encoded data removed]",
      "text/plain": [
       "<Figure size 576x360 with 1 Axes>"
      ]
     },
     "metadata": {
      "needs_background": "light"
     },
     "output_type": "display_data"
    }
   ],
   "source": [
    "import pandas as pd\n",
    "import matplotlib.pyplot as plt\n",
    "pd.DataFrame(history.history).plot(figsize=(8,5))\n",
    "plt.grid(True)\n",
    "plt.gca().set_ylim(0,1)\n",
    "plt.show()"
   ]
  },
  {
   "cell_type": "code",
   "execution_count": 19,
   "metadata": {},
   "outputs": [],
   "source": [
    "model.save(\"cat_dog_classifier.h5\")"
   ]
  },
  {
   "cell_type": "code",
   "execution_count": 7,
   "metadata": {},
   "outputs": [],
   "source": [
    "from tensorflow import keras"
   ]
  },
  {
   "cell_type": "code",
   "execution_count": 8,
   "metadata": {},
   "outputs": [],
   "source": [
    "model=keras.models.load_model(\"cat_dog_classifier.h5\")"
   ]
  },
  {
   "cell_type": "code",
   "execution_count": 9,
   "metadata": {},
   "outputs": [
    {
     "name": "stdout",
     "output_type": "stream",
     "text": [
      "Model: \"sequential_3\"\n",
      "_________________________________________________________________\n",
      "Layer (type)                 Output Shape              Param #   \n",
      "=================================================================\n",
      "conv2d_12 (Conv2D)           (None, 148, 148, 32)      896       \n",
      "_________________________________________________________________\n",
      "max_pooling2d_12 (MaxPooling (None, 74, 74, 32)        0         \n",
      "_________________________________________________________________\n",
      "conv2d_13 (Conv2D)           (None, 72, 72, 64)        18496     \n",
      "_________________________________________________________________\n",
      "max_pooling2d_13 (MaxPooling (None, 36, 36, 64)        0         \n",
      "_________________________________________________________________\n",
      "conv2d_14 (Conv2D)           (None, 34, 34, 128)       73856     \n",
      "_________________________________________________________________\n",
      "max_pooling2d_14 (MaxPooling (None, 17, 17, 128)       0         \n",
      "_________________________________________________________________\n",
      "conv2d_15 (Conv2D)           (None, 15, 15, 128)       147584    \n",
      "_________________________________________________________________\n",
      "max_pooling2d_15 (MaxPooling (None, 7, 7, 128)         0         \n",
      "_________________________________________________________________\n",
      "flatten_2 (Flatten)          (None, 6272)              0         \n",
      "_________________________________________________________________\n",
      "dense_1 (Dense)              (None, 512)               3211776   \n",
      "_________________________________________________________________\n",
      "dense_2 (Dense)              (None, 1)                 513       \n",
      "=================================================================\n",
      "Total params: 3,453,121\n",
      "Trainable params: 3,453,121\n",
      "Non-trainable params: 0\n",
      "_________________________________________________________________\n"
     ]
    }
   ],
   "source": [
    "model.summary()"
   ]
  },
  {
   "cell_type": "code",
   "execution_count": null,
   "metadata": {},
   "outputs": [],
   "source": []
  },
  {
   "cell_type": "code",
   "execution_count": null,
   "metadata": {},
   "outputs": [],
   "source": []
  },
  {
   "cell_type": "code",
   "execution_count": null,
   "metadata": {},
   "outputs": [],
   "source": []
  }
 ],
 "metadata": {
  "kernelspec": {
   "display_name": "Python 3",
   "language": "python",
   "name": "python3"
  },
  "language_info": {
   "codemirror_mode": {
    "name": "ipython",
    "version": 3
   },
   "file_extension": ".py",
   "mimetype": "text/x-python",
   "name": "python",
   "nbconvert_exporter": "python",
   "pygments_lexer": "ipython3",
   "version": "3.7.7"
  }
 },
 "nbformat": 4,
 "nbformat_minor": 4
}
